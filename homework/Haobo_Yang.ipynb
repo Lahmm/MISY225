{
 "cells": [
  {
   "cell_type": "markdown",
   "metadata": {},
   "source": [
    "## Questions 1\n",
    "\n",
    "### Haobo Yang\n",
    "Now I am a **student** of [Southwestern University of Finance and Economics](https://www.swufe.edu.cn/)\n",
    "\n",
    "I have kinds of hobbies\n",
    "- Soccer\n",
    "- Music\n",
    "  - Heavy music\n",
    "  - Jazz\n",
    "  - Blues\n",
    "  - Hip-Hop\n",
    "- Coding\n",
    "\n",
    "*I think coding really brings me ***happiness*** !*\n",
    "\n",
    "The easiest Python function might be the `print()` function , at least it`s quite easier than it in Java."
   ]
  },
  {
   "cell_type": "code",
   "execution_count": 1,
   "metadata": {},
   "outputs": [
    {
     "name": "stdout",
     "output_type": "stream",
     "text": [
      "hello world\n"
     ]
    }
   ],
   "source": [
    "print('hello world')"
   ]
  },
  {
   "cell_type": "markdown",
   "metadata": {},
   "source": [
    "# Python 101\n",
    ">\"Talk is cheap. Show me the code.\" - Linus Torvalds\n",
    "\n",
    "Python is **cool**"
   ]
  }
 ],
 "metadata": {
  "kernelspec": {
   "display_name": "Python 3.10.5 64-bit",
   "language": "python",
   "name": "python3"
  },
  "language_info": {
   "codemirror_mode": {
    "name": "ipython",
    "version": 3
   },
   "file_extension": ".py",
   "mimetype": "text/x-python",
   "name": "python",
   "nbconvert_exporter": "python",
   "pygments_lexer": "ipython3",
   "version": "3.10.5"
  },
  "orig_nbformat": 4,
  "vscode": {
   "interpreter": {
    "hash": "755ca6e29aba16b778d70b667317a2ed96d9a81c44f896fff9bdbd2c4c5171b4"
   }
  }
 },
 "nbformat": 4,
 "nbformat_minor": 2
}
