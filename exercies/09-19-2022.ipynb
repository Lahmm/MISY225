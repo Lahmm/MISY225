{
 "cells": [
  {
   "cell_type": "code",
   "execution_count": null,
   "metadata": {},
   "outputs": [],
   "source": []
  }
 ],
 "metadata": {
  "kernelspec": {
   "display_name": "Python 3.10.6 ('ds')",
   "language": "python",
   "name": "python3"
  },
  "language_info": {
   "name": "python",
   "version": "3.10.6"
  },
  "orig_nbformat": 4,
  "vscode": {
   "interpreter": {
    "hash": "6aa245ddab06e39e8345a050ca8ee787a55ad745af37254f001f706cd749d484"
   }
  }
 },
 "nbformat": 4,
 "nbformat_minor": 2
}
