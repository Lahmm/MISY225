{
 "cells": [
  {
   "cell_type": "markdown",
   "metadata": {},
   "source": [
    "# Assignment 1\n",
    "\n",
    "You need to complete the following programs."
   ]
  },
  {
   "cell_type": "markdown",
   "metadata": {},
   "source": [
    "## Questions 1\n",
    "\n",
    "### Haobo Yang\n",
    "Now I am a **student** of [Southwestern University of Finance and Economics](https://www.swufe.edu.cn/)\n",
    "\n",
    "I have kinds of hobbies\n",
    "- Soccer\n",
    "- Music\n",
    "  - Heavy music\n",
    "  - Jazz\n",
    "  - Blues\n",
    "  - Hip-Hop\n",
    "- Coding\n",
    "\n",
    "*I think coding really brings me ***happiness*** !*\n",
    "\n",
    "The easiest Python function might be the `print()` function , at least it`s quite easier than it in Java."
   ]
  },
  {
   "cell_type": "markdown",
   "metadata": {},
   "source": [
    "# Question 2\n",
    "\n",
    "Develop a simple saving calculator with the following requirements:\n",
    "\n",
    "- an input function must be used to ask users to enter the initial deposit\n",
    "- the user input must be stored as a variable - you may need to do type conversion\n",
    "- the balance must be a variable, whose value is the total balance after 10 years with fixed interest rate of 8%\n",
    "- a print function must be used to return the result to the user - you may need to do type conversion"
   ]
  },
  {
   "cell_type": "code",
   "execution_count": 3,
   "metadata": {},
   "outputs": [
    {
     "name": "stdout",
     "output_type": "stream",
     "text": [
      "Your balance after 10 years based on 8% interest rate will be : 681385837.9250304\n"
     ]
    }
   ],
   "source": [
    "# complete the program in this cell\n",
    "deposit = input(\"Your total deposit is : \")\n",
    "deposit = int(deposit)\n",
    "current_number = 1\n",
    "while current_number <= 10:\n",
    "    deposit = deposit*1.08\n",
    "    current_number += 1\n",
    "print(\"Your balance after 10 years based on 8% interest rate will be :\", end=\" \")\n",
    "print(deposit)"
   ]
  }
 ],
 "metadata": {
  "kernelspec": {
   "display_name": "Python 3.10.6 ('ds')",
   "language": "python",
   "name": "python3"
  },
  "language_info": {
   "codemirror_mode": {
    "name": "ipython",
    "version": 3
   },
   "file_extension": ".py",
   "mimetype": "text/x-python",
   "name": "python",
   "nbconvert_exporter": "python",
   "pygments_lexer": "ipython3",
   "version": "3.10.6"
  },
  "orig_nbformat": 4,
  "vscode": {
   "interpreter": {
    "hash": "6aa245ddab06e39e8345a050ca8ee787a55ad745af37254f001f706cd749d484"
   }
  }
 },
 "nbformat": 4,
 "nbformat_minor": 2
}
