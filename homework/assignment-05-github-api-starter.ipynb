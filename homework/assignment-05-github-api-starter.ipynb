{
 "cells": [
  {
   "cell_type": "markdown",
   "metadata": {},
   "source": [
    "# API and Github\n",
    "\n",
    "Follow the instruction: https://www.notion.so/harryjwang/Assignment-5-API-and-Github-2cefb78d67ca4446b2cadb2afe6adecb"
   ]
  },
  {
   "cell_type": "code",
   "execution_count": 113,
   "metadata": {},
   "outputs": [
    {
     "data": {
      "text/plain": [
       "50"
      ]
     },
     "execution_count": 113,
     "metadata": {},
     "output_type": "execute_result"
    }
   ],
   "source": [
    "import requests\n",
    "import json\n",
    "import time\n",
    "headers = {\n",
    "        'Authorization': 'Client-ID XNCxEK57_tKnGLTsKYVi83IiuABO64giPRXUqUnIPbM' \n",
    "    }\n",
    "base_url = 'https://api.unsplash.com'\n",
    "\n",
    "photos_list_id = []\n",
    "for i in range(1,6):\n",
    "    photos_url = base_url + f'/photos?page={i}'\n",
    "    response = requests.request('GET', photos_url, headers=headers)\n",
    "    photos = response.json()\n",
    "    for i in photos:\n",
    "        photos_list_id.append(i['id'])\n",
    "\n",
    "len(photos_list_id)"
   ]
  },
  {
   "cell_type": "code",
   "execution_count": 114,
   "metadata": {},
   "outputs": [],
   "source": [
    "photos_list_id_clean = list(set(photos_list_id))\n",
    "photos_list_id_clean_25 = photos_list_id_clean[1:26]\n"
   ]
  },
  {
   "cell_type": "code",
   "execution_count": 115,
   "metadata": {},
   "outputs": [
    {
     "name": "stdout",
     "output_type": "stream",
     "text": [
      "https://api.unsplash.com/photos/m9NbxsHVWIQ\n",
      "https://api.unsplash.com/photos/GMcPbEom8O0\n",
      "https://api.unsplash.com/photos/0qnRfgnZIsI\n",
      "https://api.unsplash.com/photos/EcwiCPpBt14\n",
      "https://api.unsplash.com/photos/aWY93BiakPQ\n",
      "https://api.unsplash.com/photos/f8I-lXApq_4\n",
      "https://api.unsplash.com/photos/FV6Pma5U_98\n",
      "https://api.unsplash.com/photos/LC_9p6hVypg\n",
      "https://api.unsplash.com/photos/1jYmXCN_ttc\n",
      "https://api.unsplash.com/photos/pofTdYR_-pg\n",
      "https://api.unsplash.com/photos/Lm130MBkAeI\n",
      "https://api.unsplash.com/photos/1shdfk7mQzw\n",
      "https://api.unsplash.com/photos/_D8NxqtHivM\n",
      "https://api.unsplash.com/photos/L0jjZqsZVpw\n",
      "https://api.unsplash.com/photos/Vc2dD4l57og\n",
      "https://api.unsplash.com/photos/wIG0Hhre7Ms\n",
      "https://api.unsplash.com/photos/_7rR6cYfLrw\n",
      "https://api.unsplash.com/photos/1jS6TIjd2UM\n",
      "https://api.unsplash.com/photos/yKejzraiQT0\n",
      "https://api.unsplash.com/photos/4pGQFTDlmHI\n",
      "https://api.unsplash.com/photos/eGyOt0b8hlY\n",
      "https://api.unsplash.com/photos/PlUr873HQgI\n",
      "https://api.unsplash.com/photos/d3nKNw1ILdM\n",
      "https://api.unsplash.com/photos/tWVfu0wa1U8\n",
      "https://api.unsplash.com/photos/MFK0JpFU13U\n"
     ]
    }
   ],
   "source": [
    "import time\n",
    "\n",
    "photos_final = []\n",
    "for id in photos_list_id_clean_25:\n",
    "    photo_url = base_url + '/photos/' + f'{id}'\n",
    "    print(photo_url)\n",
    "    response = requests.request('GET', photo_url, headers = headers)\n",
    "    # time.sleep(1)\n",
    "    photo_by_id = response.json()\n",
    "    photos_final.append(photo_by_id)\n",
    "    time.sleep(1)\n",
    "f = open('photos-Haobo_Yang.json', 'w')\n",
    "json.dump(photos_final,f)\n",
    "f.close()\n",
    "\n"
   ]
  },
  {
   "cell_type": "code",
   "execution_count": 116,
   "metadata": {},
   "outputs": [
    {
     "name": "stdout",
     "output_type": "stream",
     "text": [
      "124\n"
     ]
    }
   ],
   "source": [
    "from array import array\n",
    "import numpy as np\n",
    "f_1 = open('photos-Haobo_Yang.json','r')\n",
    "photos_1 = json.load(f_1)\n",
    "f_1.close()\n",
    "f_2 = open('photos.json', 'r')\n",
    "photos_2 = json.load(f_2)\n",
    "f_2.close()\n",
    "photo_id_exist = []\n",
    "photo_analyze = []\n",
    "for item in photos_2:\n",
    "    photo_id_exist.append(item['id'])\n",
    "    photo_analyze.append(item)\n",
    "\n",
    "\n",
    "for item in photos_1:\n",
    "    if item['id'] in photo_id_exist:\n",
    "        pass\n",
    "    else:\n",
    "        photo_analyze.append(item)\n",
    "    \n",
    "print(len(photo_analyze))\n",
    "\n"
   ]
  },
  {
   "cell_type": "code",
   "execution_count": 117,
   "metadata": {},
   "outputs": [
    {
     "name": "stdout",
     "output_type": "stream",
     "text": [
      "There are 124 unique photos in the dataset.\n",
      "23 photos are sponsored and the sponsor percentage is 18.55%.\n",
      "There are 6 unique sponsors: Mailchimp, Microsoft 365, Microsoft Edge, Samsung Memory, Surface, Windows\n"
     ]
    }
   ],
   "source": [
    "# sample output\n",
    "sponsor = []\n",
    "for item in photo_analyze:\n",
    "    if item['sponsorship'] != None:\n",
    "        sponsor.append(item['sponsorship']['sponsor']['name'])\n",
    "sponsors = list(np.unique(sponsor))\n",
    "blank = ', '\n",
    "print(f'There are {len(photo_analyze)} unique photos in the dataset.\\n{len(sponsor)} photos are sponsored and the sponsor percentage is {len(sponsor)/len(photo_analyze):.2%}.\\nThere are {len(np.unique(sponsor))} unique sponsors: {blank.join(sponsors)}')\n",
    "\n"
   ]
  },
  {
   "cell_type": "code",
   "execution_count": 118,
   "metadata": {},
   "outputs": [
    {
     "name": "stdout",
     "output_type": "stream",
     "text": [
      "Out of 124 photos, 97 have camera information.\n",
      "The summary of camera make information is as follows:\n",
      "Canon: 28\n",
      "DJI: 1\n",
      "FUJIFILM: 9\n",
      "Fujifilm: 1\n",
      "Hasselblad: 1\n",
      "NIKON CORPORATION: 26\n",
      "OLYMPUS CORPORATION: 1\n",
      "Panasonic: 5\n",
      "SONY: 25\n"
     ]
    }
   ],
   "source": [
    "# sample output\n",
    "camera = []\n",
    "for item in photo_analyze:\n",
    "    if item['exif']['make'] != None:\n",
    "        camera.append(item['exif']['make'])\n",
    "\n",
    "\n",
    "camera_clean = np.unique(camera, return_counts=True)\n",
    "print(f'Out of {len(photo_analyze)} photos, {len(camera)} have camera information.\\nThe summary of camera make information is as follows:')\n",
    "for i in range(0,int(len(camera_clean[0]))):\n",
    "    print(f'{camera_clean[0][i]}: {camera_clean[1][i]}')"
   ]
  }
 ],
 "metadata": {
  "kernelspec": {
   "display_name": "Python 3.10.6 ('ds')",
   "language": "python",
   "name": "python3"
  },
  "language_info": {
   "codemirror_mode": {
    "name": "ipython",
    "version": 3
   },
   "file_extension": ".py",
   "mimetype": "text/x-python",
   "name": "python",
   "nbconvert_exporter": "python",
   "pygments_lexer": "ipython3",
   "version": "3.10.6"
  },
  "orig_nbformat": 4,
  "vscode": {
   "interpreter": {
    "hash": "364d0cee56740df4cea25d5766d5535dea204bce6fac9cc39e08d8c0102e2b94"
   }
  }
 },
 "nbformat": 4,
 "nbformat_minor": 2
}
