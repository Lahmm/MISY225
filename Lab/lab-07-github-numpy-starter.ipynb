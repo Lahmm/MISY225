{
 "cells": [
  {
   "cell_type": "markdown",
   "metadata": {},
   "source": [
    "# Question 1\n",
    "\n",
    "Follow the Github tutorial and do the following:\n",
    "\n",
    "1. create a repo named `misy225-github-lab` and have a least two commits (you can add files or change files). Change the repo to public and add the repo URL below:\n",
    "\n",
    "Your repo URL: [https://github.com/Lahmm/misy225-github-lab](https://github.com/Lahmm/misy225-github-lab)\n",
    "\n",
    "\n",
    "2. issue a pull request to https://github.com/hjwang/misy225-f22 repo by adding a new text file named `your_full_name.txt` with any content you want. Add your pull request url below:\n",
    "\n",
    "Your Pull Request URL: [https://github.com/hjwang/misy225-f22/pull/59](https://github.com/hjwang/misy225-f22/pull/59)"
   ]
  },
  {
   "cell_type": "markdown",
   "metadata": {},
   "source": [
    "# Question 2\n",
    "\n",
    "Read the numbers in the text file used in the lecture and generate the following numpy array:\n",
    "\n",
    "```\n",
    "[[[7. 1. 9. 4.]\n",
    "  [2. 3. 4. 5.]]\n",
    "\n",
    " [[0. 6. 8. 0.]\n",
    "  [1. 3. 3. 9.]]\n",
    "\n",
    " [[6. 9. 5. 8.]\n",
    "  [8. 8. 4. 7.]]]\n",
    "  ```\n",
    "\n",
    "  then generate the following array (hint: 21 = 7 + 1 + 9 + 4):\n",
    "\n",
    "  ```\n",
    "  [[21. 14.]\n",
    " [14. 16.]\n",
    " [28. 27.]]\n",
    "\n",
    " ```\n"
   ]
  },
  {
   "cell_type": "code",
   "execution_count": 1,
   "metadata": {},
   "outputs": [],
   "source": [
    "import numpy as np\n",
    "\n",
    "matrix = np.loadtxt('numbers.txt', delimiter=',')\n",
    "\n",
    "e = matrix.reshape(3,2,4)\n",
    "\n",
    "\n",
    "\n"
   ]
  },
  {
   "cell_type": "code",
   "execution_count": 2,
   "metadata": {},
   "outputs": [
    {
     "data": {
      "text/plain": [
       "array([[[7., 1., 9., 4.],\n",
       "        [2., 3., 4., 5.]],\n",
       "\n",
       "       [[0., 6., 8., 0.],\n",
       "        [1., 3., 3., 9.]],\n",
       "\n",
       "       [[6., 9., 5., 8.],\n",
       "        [8., 8., 4., 7.]]])"
      ]
     },
     "execution_count": 2,
     "metadata": {},
     "output_type": "execute_result"
    }
   ],
   "source": [
    "e\n"
   ]
  },
  {
   "cell_type": "code",
   "execution_count": 3,
   "metadata": {},
   "outputs": [
    {
     "data": {
      "text/plain": [
       "array([[21., 14.],\n",
       "       [14., 16.],\n",
       "       [28., 27.]])"
      ]
     },
     "execution_count": 3,
     "metadata": {},
     "output_type": "execute_result"
    }
   ],
   "source": [
    "e.sum(axis=2)"
   ]
  }
 ],
 "metadata": {
  "kernelspec": {
   "display_name": "Python 3.10.6 ('ds')",
   "language": "python",
   "name": "python3"
  },
  "language_info": {
   "codemirror_mode": {
    "name": "ipython",
    "version": 3
   },
   "file_extension": ".py",
   "mimetype": "text/x-python",
   "name": "python",
   "nbconvert_exporter": "python",
   "pygments_lexer": "ipython3",
   "version": "3.10.6"
  },
  "orig_nbformat": 4,
  "vscode": {
   "interpreter": {
    "hash": "364d0cee56740df4cea25d5766d5535dea204bce6fac9cc39e08d8c0102e2b94"
   }
  }
 },
 "nbformat": 4,
 "nbformat_minor": 2
}
