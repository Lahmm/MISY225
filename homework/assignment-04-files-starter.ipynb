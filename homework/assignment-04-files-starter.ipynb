{
 "cells": [
  {
   "cell_type": "markdown",
   "metadata": {},
   "source": [
    "## File Parsing\n",
    "\n",
    "In this assignment, you are required to parse a text file (unstructured data) into a json file (structured data). This is an example of a common data processing task often needed for data science projects. \n",
    "\n",
    "This project is designed to be like a real project without much instructions.\n",
    "\n",
    "The input file is `songs.txt`, which you need to analyze (this is the key - you need to understand how the data is structured) and generate a json file as shown in `songs.json`\n",
    "\n",
    "The knowledge you need may include but not limited to:\n",
    "\n",
    "- read and write files\n",
    "- regular expression\n",
    "- string manipulation\n",
    "- list and dict manipulation\n",
    "- various control structure\n",
    "\n",
    "**NOTE**: \n",
    "\n",
    "1. There is no standard solution - as long as you get the required output file.\n",
    "2. You cannot hardcode anything - for example, you cannot use a specific number in the list or a line number in the file to access data. Points will be taken off if any hardcoding is found in your solution."
   ]
  },
  {
   "cell_type": "code",
   "execution_count": 22,
   "metadata": {},
   "outputs": [],
   "source": [
    "import re\n",
    "import json\n",
    "\n",
    "f = open('songs.txt', 'r')\n",
    "songs_str = f.read()\n",
    "\n",
    "songs_list = songs_str.split('\\n')\n",
    "songs_list\n",
    "for items in songs_list:\n",
    "    if len(items) == 0:\n",
    "        songs_list.pop(songs_list.index(items))\n"
   ]
  },
  {
   "cell_type": "code",
   "execution_count": 23,
   "metadata": {},
   "outputs": [],
   "source": [
    "regex = r\"&\"\n",
    "for i in songs_list:\n",
    "    if re.search(regex, i) != None:\n",
    "        songs_list.insert(songs_list.index(i) + 1,'?')\n",
    "        songs_list.pop(songs_list.index(i))\n",
    "\n",
    "join = '   '\n",
    "songs_str_reset = join.join(songs_list)"
   ]
  },
  {
   "cell_type": "code",
   "execution_count": 24,
   "metadata": {},
   "outputs": [],
   "source": [
    "songs_list_reset = songs_str_reset.split('?')\n",
    "for items in songs_list_reset:\n",
    "    if len(items) == 0:\n",
    "        songs_list_reset.pop(songs_list_reset.index(items))\n"
   ]
  },
  {
   "cell_type": "code",
   "execution_count": 25,
   "metadata": {},
   "outputs": [],
   "source": [
    "songs_final = []"
   ]
  },
  {
   "cell_type": "code",
   "execution_count": 26,
   "metadata": {},
   "outputs": [],
   "source": [
    "def put (string_song):\n",
    "    songs_dict = {'name':'', 'artist':'', 'lyrics':''}\n",
    "    song = string_song.strip().split('   ')\n",
    "    re_join = ', '\n",
    "    songs_dict['name'] = song.pop(0)\n",
    "    songs_dict['artist'] = song.pop(0).strip().replace(' by ','').replace('by ','')\n",
    "    songs_dict['lyrics'] = re_join.join(song)\n",
    "    return songs_dict"
   ]
  },
  {
   "cell_type": "code",
   "execution_count": 27,
   "metadata": {},
   "outputs": [],
   "source": [
    "i = 0\n",
    "while i < int(len(songs_list_reset)):\n",
    "    songs_final.append(put(songs_list_reset[i]))\n",
    "    i += 1"
   ]
  },
  {
   "cell_type": "code",
   "execution_count": 28,
   "metadata": {},
   "outputs": [],
   "source": [
    "f = open('songs_by_Haobo_Yang.json', 'w')\n",
    "json.dump(songs_final,f)\n",
    "f.close()"
   ]
  }
 ],
 "metadata": {
  "kernelspec": {
   "display_name": "Python 3.10.6 ('ds')",
   "language": "python",
   "name": "python3"
  },
  "language_info": {
   "codemirror_mode": {
    "name": "ipython",
    "version": 3
   },
   "file_extension": ".py",
   "mimetype": "text/x-python",
   "name": "python",
   "nbconvert_exporter": "python",
   "pygments_lexer": "ipython3",
   "version": "3.10.6"
  },
  "orig_nbformat": 4,
  "vscode": {
   "interpreter": {
    "hash": "364d0cee56740df4cea25d5766d5535dea204bce6fac9cc39e08d8c0102e2b94"
   }
  }
 },
 "nbformat": 4,
 "nbformat_minor": 2
}
