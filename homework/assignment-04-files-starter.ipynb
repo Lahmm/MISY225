{
 "cells": [
  {
   "cell_type": "markdown",
   "metadata": {},
   "source": [
    "## File Parsing\n",
    "\n",
    "In this assignment, you are required to parse a text file (unstructured data) into a json file (structured data). This is an example of a common data processing task often needed for data science projects. \n",
    "\n",
    "This project is designed to be like a real project without much instructions.\n",
    "\n",
    "The input file is `songs.txt`, which you need to analyze (this is the key - you need to understand how the data is structured) and generate a json file as shown in `songs.json`\n",
    "\n",
    "The knowledge you need may include but not limited to:\n",
    "\n",
    "- read and write files\n",
    "- regular expression\n",
    "- string manipulation\n",
    "- list and dict manipulation\n",
    "- various control structure\n",
    "\n",
    "**NOTE**: \n",
    "\n",
    "1. There is no standard solution - as long as you get the required output file.\n",
    "2. You cannot hardcode anything - for example, you cannot use a specific number in the list or a line number in the file to access data. Points will be taken off if any hardcoding is found in your solution."
   ]
  },
  {
   "cell_type": "code",
   "execution_count": null,
   "metadata": {},
   "outputs": [],
   "source": []
  }
 ],
 "metadata": {
  "kernelspec": {
   "display_name": "Python 3.10.0 64-bit ('3.10.0')",
   "language": "python",
   "name": "python3"
  },
  "language_info": {
   "codemirror_mode": {
    "name": "ipython",
    "version": 3
   },
   "file_extension": ".py",
   "mimetype": "text/x-python",
   "name": "python",
   "nbconvert_exporter": "python",
   "pygments_lexer": "ipython3",
   "version": "3.10.0"
  },
  "orig_nbformat": 4,
  "vscode": {
   "interpreter": {
    "hash": "76079b2bd502ae800938268cd2e04bc4983f0964101a11ce09b9d936f9066391"
   }
  }
 },
 "nbformat": 4,
 "nbformat_minor": 2
}
