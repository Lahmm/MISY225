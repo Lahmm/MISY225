{
 "cells": [
  {
   "cell_type": "markdown",
   "metadata": {},
   "source": [
    "# API and Github\n",
    "\n",
    "Follow the instruction: https://www.notion.so/harryjwang/Assignment-5-API-and-Github-2cefb78d67ca4446b2cadb2afe6adecb"
   ]
  },
  {
   "cell_type": "code",
   "execution_count": 260,
   "metadata": {},
   "outputs": [
    {
     "name": "stdout",
     "output_type": "stream",
     "text": [
      "There are 123 unique photos in the dataset.\n",
      "21 photos are sponsored and the sponsor percentage is 17.07%.\n",
      "There are 6 unique sponsors: Windows, Surface, Microsoft Edge, Mailchimp, Samsung Memory, Microsoft 365.\n"
     ]
    }
   ],
   "source": [
    "# sample output"
   ]
  },
  {
   "cell_type": "code",
   "execution_count": 275,
   "metadata": {},
   "outputs": [
    {
     "name": "stdout",
     "output_type": "stream",
     "text": [
      "Out of 123 photos, 96 have camera information.\n",
      "The summary of camera make information is as follows:\n",
      "Canon: 28\n",
      "DJI: 1\n",
      "FUJIFILM: 11\n",
      "Fujifilm: 1\n",
      "NIKON CORPORATION: 21\n",
      "OLYMPUS CORPORATION: 1\n",
      "Panasonic: 5\n",
      "SONY: 28\n"
     ]
    }
   ],
   "source": [
    "# sample output"
   ]
  },
  {
   "cell_type": "code",
   "execution_count": null,
   "metadata": {},
   "outputs": [],
   "source": []
  }
 ],
 "metadata": {
  "kernelspec": {
   "display_name": "Python 3.10.4 ('ds')",
   "language": "python",
   "name": "python3"
  },
  "language_info": {
   "codemirror_mode": {
    "name": "ipython",
    "version": 3
   },
   "file_extension": ".py",
   "mimetype": "text/x-python",
   "name": "python",
   "nbconvert_exporter": "python",
   "pygments_lexer": "ipython3",
   "version": "3.10.4"
  },
  "orig_nbformat": 4,
  "vscode": {
   "interpreter": {
    "hash": "b412e55582d329e7b65509968d75f6344eab3ea7f1eb3c46eb4b38c52306e55b"
   }
  }
 },
 "nbformat": 4,
 "nbformat_minor": 2
}
