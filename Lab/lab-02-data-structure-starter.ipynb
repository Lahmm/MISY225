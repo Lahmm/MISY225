{
 "cells": [
  {
   "cell_type": "markdown",
   "metadata": {},
   "source": [
    "## Question 1\n",
    "\n",
    "<img width=\"779\" src=\"https://user-images.githubusercontent.com/595772/189801251-8d6f1532-f452-4963-9482-c47707a7a51a.png\">\n",
    "\n",
    "According to the chart above\n",
    "\n",
    "- create a list of top 5 programming languages in 2022 (use their names as elements), name this list `a`\n",
    "- use list slicing to return the following results:\n",
    "    - use positive index to get `C++`\n",
    "    - use negative index to get `C#`\n",
    "    - get the slice `['C', 'C++']`\n",
    "    - get the slice `['Python', 'C++', 'Java']`"
   ]
  },
  {
   "cell_type": "code",
   "execution_count": 9,
   "metadata": {},
   "outputs": [
    {
     "name": "stdout",
     "output_type": "stream",
     "text": [
      "C++\n",
      "C#\n",
      "['C', 'C++']\n",
      "['Python', 'C++', 'Java']\n"
     ]
    }
   ],
   "source": [
    "# Question 1\n",
    "a = ['Python', 'C', 'C++', 'C#', 'Java']\n",
    "print(a[2])\n",
    "print(a[-2])\n",
    "print(a[1:3])\n",
    "print(a[::2])\n",
    "\n",
    "\n",
    "\n"
   ]
  },
  {
   "cell_type": "markdown",
   "metadata": {},
   "source": [
    "## Question 2\n",
    "\n",
    "- use append() to add 2 more languages to the list in question 1 to form the top 7 language list\n",
    "- create another list `b` to include the last two top 10 languages and combine with `a ` to form the top 10 list `c`"
   ]
  },
  {
   "cell_type": "code",
   "execution_count": 10,
   "metadata": {},
   "outputs": [
    {
     "name": "stdout",
     "output_type": "stream",
     "text": [
      "['Python', 'C', 'C++', 'C#', 'Java', 'SQL', 'JavaScript']\n",
      "['Python', 'C', 'C++', 'C#', 'Java', 'SQL', 'JavaScript', 'R', 'HTML', 'TypeScript']\n"
     ]
    }
   ],
   "source": [
    "# Question 2\n",
    "a.append('SQL')\n",
    "a.append('JavaScript')\n",
    "b = ['R', 'HTML', 'TypeScript']\n",
    "c = a + b\n",
    "print(a)\n",
    "print(c)\n"
   ]
  },
  {
   "cell_type": "markdown",
   "metadata": {},
   "source": [
    "## Question 3\n",
    "\n",
    "- delete the last 7 languages from the list `c`\n",
    "- change the first three languages by adding the percentage number - use a list of list like `[['Python', 100], ['C', 96.8], ['C++', 88.58]]`\n",
    "- use f-string to print out: `The percentage of C++ is 88.6%`"
   ]
  },
  {
   "cell_type": "code",
   "execution_count": 11,
   "metadata": {},
   "outputs": [],
   "source": [
    "# Question 3\n",
    "del c[3:]\n"
   ]
  },
  {
   "cell_type": "code",
   "execution_count": 12,
   "metadata": {},
   "outputs": [
    {
     "name": "stdout",
     "output_type": "stream",
     "text": [
      "['Python', 'C', 'C++']\n"
     ]
    }
   ],
   "source": [
    "print(c)"
   ]
  },
  {
   "cell_type": "code",
   "execution_count": 13,
   "metadata": {},
   "outputs": [
    {
     "data": {
      "text/plain": [
       "[['Python', 100], ['C', 98.6], ['C++', 88.58]]"
      ]
     },
     "execution_count": 13,
     "metadata": {},
     "output_type": "execute_result"
    }
   ],
   "source": [
    "c[0] = ['Python', 100]\n",
    "c[1] = ['C', 98.6]\n",
    "c[2] = ['C++', 88.58]\n",
    "c"
   ]
  },
  {
   "cell_type": "code",
   "execution_count": 14,
   "metadata": {},
   "outputs": [
    {
     "name": "stdout",
     "output_type": "stream",
     "text": [
      "The percentage of C++ is 88.6%\n"
     ]
    }
   ],
   "source": [
    "print(f'The percentage of {c[2][0]} is {c[2][1]/100:.1%}')"
   ]
  },
  {
   "cell_type": "markdown",
   "metadata": {},
   "source": [
    "## Question 4\n",
    "\n",
    "|   Name   | Gender | VIP   |  Cell Phone        | Home Phone | DaysOfMembership | Gift 1 | Gift 2|\n",
    "|  ---   | --- | ---   |     ---        | --- | --- | --- | ---|\n",
    "|   Jack   | Male | No   |  111-222-3333        | 111-444-5555 | 60 | Apple Watch | MacBook Pro|\n",
    "|   Rose   | Female | Yes   |  222-333-4444        | 222-555-6666 | 120 | Airpods | iPad Pro|\n",
    "\n",
    "According to the table above:\n",
    "\n",
    "- create two dictionaries for each user\n",
    "- cell phone and home phone must be recorded as dictionaries for a key named `phones`\n",
    "- gifts must be stored in a list\n",
    "- use proper data types for different columns\n",
    "- create a list from two users to store the whole table and name it `users`\n",
    "- using `users` list to return the following results: 1. the home phone of Jack, 2. Gift 1 of Rose\n"
   ]
  },
  {
   "cell_type": "code",
   "execution_count": 15,
   "metadata": {},
   "outputs": [],
   "source": [
    "# Question 4\n",
    "user1 = {\n",
    "    'name': 'Jack', \n",
    "    'gender': 'Male',\n",
    "    'vip': 'No',\n",
    "    'phones':\n",
    "        {'cell_phone': '111-222-3333', 'home_phone': '111-444-5555'},\n",
    "    'DaysOfMembership': 60,\n",
    "    'gifts': ['Apple watch', 'MacBook pro'] \n",
    "    \n",
    "}\n",
    "\n",
    "user2 = {\n",
    "    'name': 'Rose', \n",
    "    'gender': 'Female',\n",
    "    'vip': 'Yes',\n",
    "    'phones':\n",
    "        {'cell_phone': '222-333-4444', 'home_phone': '222-555-6666'},\n",
    "    'DaysOfMembership': 120,\n",
    "    'gifts': ['Airpods', 'iPad pro'] \n",
    "    \n",
    "}"
   ]
  },
  {
   "cell_type": "code",
   "execution_count": 16,
   "metadata": {},
   "outputs": [
    {
     "data": {
      "text/plain": [
       "[{'name': 'Jack',\n",
       "  'gender': 'Male',\n",
       "  'vip': 'No',\n",
       "  'phones': {'cell_phone': '111-222-3333', 'home_phone': '111-444-5555'},\n",
       "  'DaysOfMembership': 60,\n",
       "  'gifts': ['Apple watch', 'MacBook pro']},\n",
       " {'name': 'Rose',\n",
       "  'gender': 'Female',\n",
       "  'vip': 'Yes',\n",
       "  'phones': {'cell_phone': '222-333-4444', 'home_phone': '222-555-6666'},\n",
       "  'DaysOfMembership': 120,\n",
       "  'gifts': ['Airpods', 'iPad pro']}]"
      ]
     },
     "execution_count": 16,
     "metadata": {},
     "output_type": "execute_result"
    }
   ],
   "source": [
    "users = [user1,user2]\n",
    "users\n"
   ]
  },
  {
   "cell_type": "code",
   "execution_count": 17,
   "metadata": {},
   "outputs": [
    {
     "data": {
      "text/plain": [
       "'111-444-5555'"
      ]
     },
     "execution_count": 17,
     "metadata": {},
     "output_type": "execute_result"
    }
   ],
   "source": [
    "users[0]['phones']['home_phone']"
   ]
  },
  {
   "cell_type": "code",
   "execution_count": 18,
   "metadata": {},
   "outputs": [
    {
     "data": {
      "text/plain": [
       "'Airpods'"
      ]
     },
     "execution_count": 18,
     "metadata": {},
     "output_type": "execute_result"
    }
   ],
   "source": [
    "users[1]['gifts'][0]"
   ]
  }
 ],
 "metadata": {
  "kernelspec": {
   "display_name": "Python 3.10.6 ('ds')",
   "language": "python",
   "name": "python3"
  },
  "language_info": {
   "codemirror_mode": {
    "name": "ipython",
    "version": 3
   },
   "file_extension": ".py",
   "mimetype": "text/x-python",
   "name": "python",
   "nbconvert_exporter": "python",
   "pygments_lexer": "ipython3",
   "version": "3.10.6"
  },
  "orig_nbformat": 4,
  "vscode": {
   "interpreter": {
    "hash": "6aa245ddab06e39e8345a050ca8ee787a55ad745af37254f001f706cd749d484"
   }
  }
 },
 "nbformat": 4,
 "nbformat_minor": 2
}
