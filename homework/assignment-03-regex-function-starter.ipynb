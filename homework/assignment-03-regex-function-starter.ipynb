{
 "cells": [
  {
   "cell_type": "markdown",
   "metadata": {},
   "source": [
    "# Question 1\n",
    "\n",
    "Search the lyrics of John Lennon's \"Imagine\" using regular expression and work on the programs according to the requirements below."
   ]
  },
  {
   "cell_type": "code",
   "execution_count": 5,
   "metadata": {},
   "outputs": [],
   "source": [
    "# Don't change this cell - just run it\n",
    "imagine = (\n",
    "    \"Imagine there's no heaven. It's easy if you try. No hell below us. Above us only sky. \" + \n",
    "    \"Imagine all the people. Living for today... Aha-ah..... \" +\n",
    "    \"Imagine there's no countries. It isn't hard to do. Nothing to kill or die for. And no religion, too. \" +\n",
    "    \"Imagine all the people. Living life in peace.... You...... \" +\n",
    "    \"You may say I'm a dreamer. But I'm not the only one. I hope someday you'll join us. And the world will be as one, \" +\n",
    "    \"Imagine no possessions. I wonder if you can. No need for greed or hunger. A brotherhood of man. \" + \n",
    "    \"Imagine all the people. Sharing all the world..... You...... \" +\n",
    "    \"You may say I'm a dreamer. But I'm not the only one. I hope someday you'll join us. And the world will live as one.\"\n",
    "    )"
   ]
  },
  {
   "cell_type": "markdown",
   "metadata": {},
   "source": [
    "### Task 1.1\n",
    "\n",
    "Use split, strip, and for loop to process the first 48 characters of the song to print out the following:\n",
    "\n",
    "```\n",
    "1: Imagine there's no heaven;\n",
    "2: It's easy if you try;\n",
    "```"
   ]
  },
  {
   "cell_type": "code",
   "execution_count": 6,
   "metadata": {},
   "outputs": [
    {
     "name": "stdout",
     "output_type": "stream",
     "text": [
      "1: Imagine there's no heaven;\n",
      "2: It's easy if you try;\n"
     ]
    }
   ],
   "source": [
    "imagine_short = imagine[0:48]\n",
    "s = imagine_short.split('.')\n",
    "n = 1\n",
    "for i in range(2):\n",
    "    print(f'{n}: {s[i].strip()};')\n",
    "    n += 1"
   ]
  },
  {
   "cell_type": "markdown",
   "metadata": {},
   "source": [
    "### Task 1.2\n",
    "\n",
    "find all 'imagine' word, print the total number of occurrence and the starting index of each occurrence\n",
    "\n",
    "Sample output:\n",
    "\n",
    "```\n",
    "the total number of occurrence of \"imagine\" is 6\n",
    "the starting index of each imagine is:\n",
    "0\n",
    "86\n",
    "142\n",
    "243\n",
    "416\n",
    "512\n",
    "```\n"
   ]
  },
  {
   "cell_type": "code",
   "execution_count": 7,
   "metadata": {},
   "outputs": [
    {
     "name": "stdout",
     "output_type": "stream",
     "text": [
      "the total number of occurrence of \"imagine\" is 6\n",
      "the starting index of each imagine is:\n",
      "0\n",
      "86\n",
      "142\n",
      "243\n",
      "416\n",
      "512\n"
     ]
    }
   ],
   "source": [
    "import re\n",
    "imagine_lower = imagine.lower()\n",
    "\n",
    "regex = r'imagine'\n",
    "\n",
    "m1 = re.findall(regex,imagine_lower)\n",
    "print(f'the total number of occurrence of \"imagine\" is {len(m1)}')\n",
    "\n",
    "m2 = re.finditer(regex, imagine_lower)\n",
    "print('the starting index of each imagine is:')\n",
    "for i in m2:\n",
    "    print(i.span()[0])\n"
   ]
  },
  {
   "cell_type": "markdown",
   "metadata": {},
   "source": [
    "### Task 1.3\n",
    "\n",
    "find all substrings starts with 'imagine' ends with '.'\n",
    "\n",
    "```\n",
    "[\"imagine there's no heaven.\",\n",
    " 'imagine all the people.',\n",
    " \"imagine there's no countries.\",\n",
    " 'imagine all the people.',\n",
    " 'imagine no possessions.',\n",
    " 'imagine all the people.']\n",
    " ```"
   ]
  },
  {
   "cell_type": "code",
   "execution_count": 8,
   "metadata": {},
   "outputs": [
    {
     "name": "stdout",
     "output_type": "stream",
     "text": [
      "[\"imagine there's no heaven.\", 'imagine all the people.', \"imagine there's no countries.\", 'imagine all the people.', 'imagine no possessions.', 'imagine all the people.']\n"
     ]
    }
   ],
   "source": [
    "regex_1 = '\\. '\n",
    "regex_2 = 'imagine'\n",
    "regex_3 = '\\,'\n",
    "\n",
    "imagine_lower_1 = re.sub(regex_3,'.  ', imagine_lower)\n",
    "\n",
    "imagine_lower_2 = re.sub(regex_1,'.  ', imagine_lower_1)\n",
    "\n",
    "lrc_list_2 = imagine_lower_2.split('  ')\n",
    "\n",
    "s = []\n",
    "for i in lrc_list_2:\n",
    "    if re.match(regex,i) != None:\n",
    "        s.append(i)\n",
    "    else:\n",
    "        continue\n",
    "print(s)"
   ]
  },
  {
   "cell_type": "markdown",
   "metadata": {},
   "source": [
    "### Task 1.4\n",
    "\n",
    "find all substrings starts with 'imagine' ends with 'people' with location info.\n",
    "\n",
    "Sample output:\n",
    "```\n",
    "(86, 108) imagine all the people\n",
    "(243, 265) imagine all the people\n",
    "(512, 534) imagine all the people\n",
    "```"
   ]
  },
  {
   "cell_type": "code",
   "execution_count": 9,
   "metadata": {},
   "outputs": [
    {
     "name": "stdout",
     "output_type": "stream",
     "text": [
      "(86, 108) imagine all the people\n",
      "(243, 265) imagine all the people\n",
      "(512, 534) imagine all the people\n"
     ]
    }
   ],
   "source": [
    "regex_4 = 'imagine.........people'\n",
    "m3 = re.finditer(regex_4,imagine_lower)\n",
    "for i in m3:\n",
    "    print(i.span(),i.group())\n"
   ]
  },
  {
   "cell_type": "markdown",
   "metadata": {},
   "source": [
    "## Question 2\n",
    "\n",
    "Develop a grade calculator with the following requirements:\n",
    "\n",
    "\n",
    "- get the input from the user using an input box and use regular expression to check the user input must be numbers between 1 and 100 (hint: use `re.match()` and `^` `$`)and prompt the user to re-enter if the input is invalid (while loop with continue and break)\n",
    "- use input box to ask whether the bonus assignment is finished or not - allow the users to enter \"yes\" or \"no\" in case insensitive way with trailing spaces, such as \"Yes\", \"YES\", \"YES  \" would all be valid input - use a while loop to prompt the users to enter valid input.\n",
    "- develop a function get_letter_grade() with two parameters: grade and bonus. If the bonus input is \"yes\", add 5 points to the grade and return the letter grade according to the following rule: A if >= 90, B if >= 80, C if >=70, D if < 70. Return the letter grade\n",
    "- call the function to print out the letter grade\n",
    "\n",
    "Some sample outputs:\n",
    "\n",
    "<img width=\"597\" src=\"https://user-images.githubusercontent.com/595772/192132635-3607b45e-d75c-4760-a070-50d1d83356dc.png\">\n",
    "\n",
    "<img width=\"597\" src=\"https://user-images.githubusercontent.com/595772/192132638-cd5f9018-ee71-46a7-8916-6c6293fac876.png\">\n",
    "\n",
    "`your grade is 76.0 and bonus assignment answer is no and letter grade is C`\n",
    "\n",
    "\n",
    "---\n",
    "<img width=\"598\" src=\"https://user-images.githubusercontent.com/595772/192132717-adbc6aee-40fa-4697-891c-319ae2210d2a.png\">\n",
    "\n",
    "<img width=\"597\" src=\"https://user-images.githubusercontent.com/595772/192132719-dcc858e4-e20a-4c84-8ab3-968e725e9b42.png\">\n",
    "\n",
    "`your grade is 88.0 and bonus assignment answer is yes and letter grade is A`\n"
   ]
  },
  {
   "cell_type": "code",
   "execution_count": 2,
   "metadata": {},
   "outputs": [
    {
     "name": "stdout",
     "output_type": "stream",
     "text": [
      "invaild input, enter again\n",
      "invaild input, enter again\n",
      "invaild input, enter again\n",
      "invaild input, enter again\n",
      "invaild input, enter again\n",
      "invaild input, enter again\n",
      "your grade is 56 and bonus assignment answer is no and letter grade is D\n"
     ]
    }
   ],
   "source": [
    "# get inputs\n",
    "import re\n",
    "from tkinter.messagebox import YES\n",
    "\n",
    "test = True\n",
    "\n",
    "while test:\n",
    "    grade = input('enter your grade (numbers only: 1-100)')\n",
    "    if re.match('(^\\d{1}$.*[^0])|^([1-9][0-9])$|100', grade) != None:\n",
    "        grade_true = grade\n",
    "        while test:\n",
    "            bonus = input('Bonus assignment finished (yes or no)?').strip().lower()\n",
    "            if re.match('yes|no',bonus) != None:\n",
    "                bonus_true = bonus\n",
    "                break\n",
    "            else:\n",
    "                print('invaild input, enter again')\n",
    "                continue\n",
    "        break\n",
    "    else:\n",
    "        print('invaild input, enter again')\n",
    "        continue\n",
    "# define the get_letter_grade() function\n",
    "def get_letter_grade(grade,bonus):\n",
    "    grade_int  = int(grade)\n",
    "    if bonus == 'yes':\n",
    "        grade_int = grade_int + 5\n",
    "    else:\n",
    "        pass\n",
    "\n",
    "    if grade_int >= 90:\n",
    "        letter_grade = 'A'\n",
    "    elif grade_int >= 80:\n",
    "        letter_grade = 'B'\n",
    "    elif grade_int >= 70:\n",
    "        letter_grade = 'C'\n",
    "    else:\n",
    "        letter_grade = 'D'\n",
    "\n",
    "    print(f'your grade is {grade} and bonus assignment answer is {bonus} and letter grade is {letter_grade}')\n",
    "\n",
    "\n",
    "\n",
    "\n",
    "# call the function to print the result\n",
    "get_letter_grade(grade_true,bonus_true)\n"
   ]
  }
 ],
 "metadata": {
  "kernelspec": {
   "display_name": "Python 3.10.6 ('ds')",
   "language": "python",
   "name": "python3"
  },
  "language_info": {
   "codemirror_mode": {
    "name": "ipython",
    "version": 3
   },
   "file_extension": ".py",
   "mimetype": "text/x-python",
   "name": "python",
   "nbconvert_exporter": "python",
   "pygments_lexer": "ipython3",
   "version": "3.10.6"
  },
  "orig_nbformat": 4,
  "vscode": {
   "interpreter": {
    "hash": "6aa245ddab06e39e8345a050ca8ee787a55ad745af37254f001f706cd749d484"
   }
  }
 },
 "nbformat": 4,
 "nbformat_minor": 2
}
