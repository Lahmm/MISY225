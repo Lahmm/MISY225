{
 "cells": [
  {
   "cell_type": "code",
   "execution_count": 25,
   "metadata": {},
   "outputs": [],
   "source": [
    "f = open('song.txt','r') # f is called file handler"
   ]
  },
  {
   "cell_type": "code",
   "execution_count": 26,
   "metadata": {},
   "outputs": [
    {
     "data": {
      "text/plain": [
       "2"
      ]
     },
     "execution_count": 26,
     "metadata": {},
     "output_type": "execute_result"
    }
   ],
   "source": [
    "song = f.read() # read the whole file into a string\n",
    "song\n",
    "song.count('beautiful')"
   ]
  },
  {
   "cell_type": "code",
   "execution_count": 27,
   "metadata": {},
   "outputs": [
    {
     "name": "stdout",
     "output_type": "stream",
     "text": [
      "You Are So Beautiful\n",
      "by Joe Cocker\n",
      "You are so beautiful\n",
      "To me\n",
      "Can't you see\n",
      "You're everything I hoped for\n",
      "You're everything I need\n",
      "You are so beautiful\n",
      "To me\n",
      "\n"
     ]
    }
   ],
   "source": [
    "print(song)"
   ]
  },
  {
   "cell_type": "code",
   "execution_count": 28,
   "metadata": {},
   "outputs": [
    {
     "data": {
      "text/plain": [
       "['You Are So Beautiful\\n',\n",
       " 'by Joe Cocker\\n',\n",
       " 'You are so beautiful\\n',\n",
       " 'To me\\n',\n",
       " \"Can't you see\\n\",\n",
       " \"You're everything I hoped for\\n\",\n",
       " \"You're everything I need\\n\",\n",
       " 'You are so beautiful\\n',\n",
       " 'To me\\n']"
      ]
     },
     "execution_count": 28,
     "metadata": {},
     "output_type": "execute_result"
    }
   ],
   "source": [
    "f = open('song.txt')\n",
    "song = f.readlines()\n",
    "song # list each line is an elementb"
   ]
  },
  {
   "cell_type": "code",
   "execution_count": 29,
   "metadata": {},
   "outputs": [
    {
     "data": {
      "text/plain": [
       "9"
      ]
     },
     "execution_count": 29,
     "metadata": {},
     "output_type": "execute_result"
    }
   ],
   "source": [
    "len(song)"
   ]
  },
  {
   "cell_type": "code",
   "execution_count": 30,
   "metadata": {},
   "outputs": [
    {
     "data": {
      "text/plain": [
       "'You Are So Beautiful\\n'"
      ]
     },
     "execution_count": 30,
     "metadata": {},
     "output_type": "execute_result"
    }
   ],
   "source": [
    "f = open('song.txt')\n",
    "song = f.readline()\n",
    "song"
   ]
  },
  {
   "cell_type": "code",
   "execution_count": 31,
   "metadata": {},
   "outputs": [],
   "source": [
    "f.close()"
   ]
  },
  {
   "cell_type": "code",
   "execution_count": 32,
   "metadata": {},
   "outputs": [
    {
     "name": "stdout",
     "output_type": "stream",
     "text": [
      "You Are So Beautiful\n",
      "\n",
      "by Joe Cocker\n",
      "\n",
      "You are so beautiful\n",
      "\n",
      "To me\n",
      "\n",
      "Can't you see\n",
      "\n",
      "You're everything I hoped for\n",
      "\n",
      "You're everything I need\n",
      "\n",
      "You are so beautiful\n",
      "\n",
      "To me\n",
      "\n"
     ]
    }
   ],
   "source": [
    "f = open('song.txt','r')\n",
    "\n",
    "for i in f:\n",
    "    print(i)"
   ]
  },
  {
   "cell_type": "code",
   "execution_count": 47,
   "metadata": {},
   "outputs": [],
   "source": [
    "f = open('text.txt','w')\n",
    "f.write('hello! ')\n",
    "f.write('My friends\\n')\n",
    "f.write('how are you')\n",
    "f.close()\n"
   ]
  },
  {
   "cell_type": "code",
   "execution_count": 48,
   "metadata": {},
   "outputs": [],
   "source": [
    "f = open('text.txt','a')\n",
    "f.write('\\nappend')\n",
    "f.close()"
   ]
  },
  {
   "cell_type": "code",
   "execution_count": 53,
   "metadata": {},
   "outputs": [
    {
     "name": "stdout",
     "output_type": "stream",
     "text": [
      "tom\n"
     ]
    }
   ],
   "source": [
    "import json\n",
    "\n",
    "s1 = '{\"name\": \"tom\", \"age\": 23}'\n",
    "a = json.loads(s1)\n",
    "print(a['name'])\n"
   ]
  },
  {
   "cell_type": "code",
   "execution_count": 55,
   "metadata": {},
   "outputs": [
    {
     "name": "stdout",
     "output_type": "stream",
     "text": [
      "jack\n"
     ]
    }
   ],
   "source": [
    "user = {'name': 'jack', 'age': 23}\n",
    "print(user['name'])\n"
   ]
  },
  {
   "cell_type": "code",
   "execution_count": 70,
   "metadata": {},
   "outputs": [
    {
     "name": "stdout",
     "output_type": "stream",
     "text": [
      "BMW 230\n"
     ]
    }
   ],
   "source": [
    "f = open('users.json')\n",
    "user = json.load(f)\n",
    "f.close()\n",
    "print(user[0]['cars'][0]['model'])"
   ]
  },
  {
   "cell_type": "code",
   "execution_count": 81,
   "metadata": {},
   "outputs": [],
   "source": [
    "fruits = {'name': 'apple', 'price': '2', 'quantity': '30'}\n",
    "f = open('fruits.json','w')\n",
    "json.dump(fruits,f)\n",
    "f.close()\n"
   ]
  },
  {
   "cell_type": "code",
   "execution_count": 90,
   "metadata": {},
   "outputs": [],
   "source": [
    "from sqlite3 import DatabaseError\n",
    "from urllib import response\n",
    "import requests\n",
    " \n",
    "api_url = \"http://www.boredapi.com/api/activity\" \n",
    "\n",
    "response = requests.request('GET',api_url)\n",
    "\n",
    "data = response.json() # get the data as a json format\n",
    "\n"
   ]
  },
  {
   "cell_type": "code",
   "execution_count": 93,
   "metadata": {},
   "outputs": [],
   "source": [
    "import urllib.parse"
   ]
  },
  {
   "cell_type": "code",
   "execution_count": 95,
   "metadata": {},
   "outputs": [],
   "source": [
    "name = 'j k rowling'"
   ]
  },
  {
   "cell_type": "code",
   "execution_count": 96,
   "metadata": {},
   "outputs": [
    {
     "name": "stdout",
     "output_type": "stream",
     "text": [
      "j%20k%20rowling\n"
     ]
    }
   ],
   "source": [
    "name_encoede = urllib.parse.quote(name)\n",
    "print(name_encoede)"
   ]
  },
  {
   "cell_type": "code",
   "execution_count": 97,
   "metadata": {},
   "outputs": [],
   "source": [
    "o_api = \"https://openlibrary.org/search/authors.json\"\n",
    "\n",
    "final_search = o_api + '?q=' + name_encoede\n",
    "\n"
   ]
  },
  {
   "cell_type": "code",
   "execution_count": 101,
   "metadata": {},
   "outputs": [
    {
     "data": {
      "text/plain": [
       "dict"
      ]
     },
     "execution_count": 101,
     "metadata": {},
     "output_type": "execute_result"
    }
   ],
   "source": [
    "search = requests.request('GET',final_search)\n",
    "data = search.json()\n",
    "type(data)"
   ]
  },
  {
   "cell_type": "code",
   "execution_count": 104,
   "metadata": {},
   "outputs": [
    {
     "data": {
      "text/plain": [
       "{'numFound': 2,\n",
       " 'start': 0,\n",
       " 'numFoundExact': True,\n",
       " 'docs': [{'key': 'OL23919A',\n",
       "   'type': 'author',\n",
       "   'name': 'J. K. Rowling',\n",
       "   'alternate_names': ['Joanne Rowling',\n",
       "    'Joanne K. Rowling',\n",
       "    'Jo Murray',\n",
       "    'Kennilworthy Whisp',\n",
       "    'JK Rowling',\n",
       "    'Robert Galbraith',\n",
       "    'Джоан Роулінг',\n",
       "    'Dzhoan Rouling',\n",
       "    'J.K. Rowling'],\n",
       "   'birth_date': '31 July 1965',\n",
       "   'top_work': \"Harry Potter and the Philosopher's Stone\",\n",
       "   'work_count': 357,\n",
       "   'top_subjects': ['Fiction',\n",
       "    \"Children's fiction\",\n",
       "    'Fantasy fiction',\n",
       "    'Magic',\n",
       "    'England, fiction',\n",
       "    'Wizards, fiction',\n",
       "    'Wizards',\n",
       "    'New York Times bestseller',\n",
       "    'Harry Potter',\n",
       "    'Juvenile fiction'],\n",
       "   '_version_': 1745067456820412418},\n",
       "  {'key': 'OL10650745A',\n",
       "   'type': 'author',\n",
       "   'name': 'Lia Wyler (Tradutor) J. K. Rowling ',\n",
       "   'work_count': 0,\n",
       "   '_version_': 1743399222225403904}]}"
      ]
     },
     "execution_count": 104,
     "metadata": {},
     "output_type": "execute_result"
    }
   ],
   "source": [
    "data"
   ]
  },
  {
   "cell_type": "code",
   "execution_count": 111,
   "metadata": {},
   "outputs": [
    {
     "data": {
      "text/plain": [
       "\"Harry Potter and the Philosopher's Stone\""
      ]
     },
     "execution_count": 111,
     "metadata": {},
     "output_type": "execute_result"
    }
   ],
   "source": [
    "data.keys()\n",
    "data['docs'][0]['top_work']"
   ]
  }
 ],
 "metadata": {
  "kernelspec": {
   "display_name": "Python 3.10.6 ('ds')",
   "language": "python",
   "name": "python3"
  },
  "language_info": {
   "codemirror_mode": {
    "name": "ipython",
    "version": 3
   },
   "file_extension": ".py",
   "mimetype": "text/x-python",
   "name": "python",
   "nbconvert_exporter": "python",
   "pygments_lexer": "ipython3",
   "version": "3.10.6"
  },
  "orig_nbformat": 4,
  "vscode": {
   "interpreter": {
    "hash": "6aa245ddab06e39e8345a050ca8ee787a55ad745af37254f001f706cd749d484"
   }
  }
 },
 "nbformat": 4,
 "nbformat_minor": 2
}
