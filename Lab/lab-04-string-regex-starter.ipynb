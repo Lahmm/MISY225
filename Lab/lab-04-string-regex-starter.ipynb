{
 "cells": [
  {
   "cell_type": "markdown",
   "metadata": {},
   "source": [
    "## String and Regular Expression\n",
    "Search the lyrics of John Lennon's \"Imagine\" using regular expression and work on the programs according to the requirements below."
   ]
  },
  {
   "cell_type": "code",
   "execution_count": 2,
   "metadata": {},
   "outputs": [],
   "source": [
    "# Don't change this cell - just run it\n",
    "imagine = (\n",
    "    \"Imagine there's no heaven. It's easy if you try. No hell below us. Above us only sky. \" + \n",
    "    \"Imagine all the people. Living for today... Aha-ah..... \" +\n",
    "    \"Imagine there's no countries. It isn't hard to do. Nothing to kill or die for. And no religion, too. \" +\n",
    "    \"Imagine all the people. Living life in peace.... You...... \" +\n",
    "    \"You may say I'm a dreamer. But I'm not the only one. I hope someday you'll join us. And the world will be as one, \" +\n",
    "    \"Imagine no possessions. I wonder if you can. No need for greed or hunger. A brotherhood of man. \" + \n",
    "    \"Imagine all the people. Sharing all the world..... You...... \" +\n",
    "    \"You may say I'm a dreamer. But I'm not the only one. I hope someday you'll join us. And the world will live as one.\"\n",
    "    )"
   ]
  },
  {
   "cell_type": "markdown",
   "metadata": {},
   "source": [
    "### Question 1\n",
    "\n",
    "Use split, strip, and for loop to process the first 48 characters of the song to print out the following:\n",
    "\n",
    "```\n",
    "1: Imagine there's no heaven;\n",
    "2: It's easy if you try;\n",
    "```"
   ]
  },
  {
   "cell_type": "code",
   "execution_count": 3,
   "metadata": {},
   "outputs": [
    {
     "name": "stdout",
     "output_type": "stream",
     "text": [
      "['Imagine', \"there's\", 'no', 'heaven.', \"It's\", 'easy', 'if', 'you', 'try.', 'No', 'hell', 'below', 'us.', 'Above', 'us', 'only', 'sky.', 'Imagine', 'all', 'the', 'people.', 'Living', 'for', 'today...', 'Aha-ah.....', 'Imagine', \"there's\", 'no', 'countries.', 'It', \"isn't\", 'hard', 'to', 'do.', 'Nothing', 'to', 'kill', 'or', 'die', 'for.', 'And', 'no', 'religion,', 'too.', 'Imagine', 'all', 'the', 'people.', 'Living', 'life', 'in', 'peace....', 'You......', 'You', 'may', 'say', \"I'm\", 'a', 'dreamer.', 'But', \"I'm\", 'not', 'the', 'only', 'one.', 'I', 'hope', 'someday', \"you'll\", 'join', 'us.', 'And', 'the', 'world', 'will', 'be', 'as', 'one,', 'Imagine', 'no', 'possessions.', 'I', 'wonder', 'if', 'you', 'can.', 'No', 'need', 'for', 'greed', 'or', 'hunger.', 'A', 'brotherhood', 'of', 'man.', 'Imagine', 'all', 'the', 'people.', 'Sharing', 'all', 'the', 'world.....', 'You......', 'You', 'may', 'say', \"I'm\", 'a', 'dreamer.', 'But', \"I'm\", 'not', 'the', 'only', 'one.', 'I', 'hope', 'someday', \"you'll\", 'join', 'us.', 'And', 'the', 'world', 'will', 'live', 'as', 'one.']\n"
     ]
    }
   ],
   "source": [
    "# get the first 48 characters first\n",
    "list_words = imagine.split()\n",
    "print(list_words)\n",
    "\n",
    "# process the 48 characters to print out the results\n",
    "\n",
    "\n"
   ]
  },
  {
   "cell_type": "markdown",
   "metadata": {},
   "source": [
    "## Question 2\n",
    "\n",
    "find all 'imagine' word, print the total number of occurrence and the starting index of each occurrence\n",
    "\n",
    "Sample output:\n",
    "\n",
    "```\n",
    "the total number of occurrence of \"imagine\" is 6\n",
    "the starting index of each imagine is:\n",
    "0\n",
    "86\n",
    "142\n",
    "243\n",
    "416\n",
    "512\n",
    "```\n"
   ]
  },
  {
   "cell_type": "code",
   "execution_count": 5,
   "metadata": {},
   "outputs": [
    {
     "name": "stdout",
     "output_type": "stream",
     "text": [
      "Imagine there's no heaven. It's easy if you try. No hell below us. Above us only sky. Imagine all the people. Living for today... Aha-ah..... Imagine there's no countries. It isn't hard to do. Nothing to kill or die for. And no religion, too. Imagine all the people. Living life in peace.... You...... You may say I'm a dreamer. But I'm not the only one. I hope someday you'll join us. And the world will be as one, Imagine no possessions. I wonder if you can. No need for greed or hunger. A brotherhood of man. Imagine all the people. Sharing all the world..... You...... You may say I'm a dreamer. But I'm not the only one. I hope someday you'll join us. And the world will live as one.\n"
     ]
    }
   ],
   "source": [
    "# import the package\n",
    "import re\n",
    "\n",
    "# change the text to all lower case before using regular expression\n",
    "imagine.lower()\n",
    "\n",
    "\n",
    "# find all 'imagine' word, print the total number of occurrence and the starting index of each occurrence\n",
    "print(imagine)\n"
   ]
  },
  {
   "cell_type": "markdown",
   "metadata": {},
   "source": [
    "### Question 3\n",
    "\n",
    "find all substrings starts with 'imagine' ends with '.'\n",
    "\n",
    "```\n",
    "[\"imagine there's no heaven.\",\n",
    " 'imagine all the people.',\n",
    " \"imagine there's no countries.\",\n",
    " 'imagine all the people.',\n",
    " 'imagine no possessions.',\n",
    " 'imagine all the people.']\n",
    " ```"
   ]
  },
  {
   "cell_type": "code",
   "execution_count": null,
   "metadata": {},
   "outputs": [],
   "source": []
  },
  {
   "cell_type": "markdown",
   "metadata": {},
   "source": [
    "### Question 4\n",
    "\n",
    "find all substrings starts with 'imagine' ends with 'people' with location info.\n",
    "\n",
    "Sample output:\n",
    "```\n",
    "(86, 108) imagine all the people\n",
    "(243, 265) imagine all the people\n",
    "(512, 534) imagine all the people\n",
    "```"
   ]
  },
  {
   "cell_type": "code",
   "execution_count": null,
   "metadata": {},
   "outputs": [],
   "source": []
  },
  {
   "cell_type": "code",
   "execution_count": null,
   "metadata": {},
   "outputs": [],
   "source": []
  }
 ],
 "metadata": {
  "kernelspec": {
   "display_name": "Python 3.10.6 ('ds')",
   "language": "python",
   "name": "python3"
  },
  "language_info": {
   "codemirror_mode": {
    "name": "ipython",
    "version": 3
   },
   "file_extension": ".py",
   "mimetype": "text/x-python",
   "name": "python",
   "nbconvert_exporter": "python",
   "pygments_lexer": "ipython3",
   "version": "3.10.6"
  },
  "orig_nbformat": 4,
  "vscode": {
   "interpreter": {
    "hash": "6aa245ddab06e39e8345a050ca8ee787a55ad745af37254f001f706cd749d484"
   }
  }
 },
 "nbformat": 4,
 "nbformat_minor": 2
}
