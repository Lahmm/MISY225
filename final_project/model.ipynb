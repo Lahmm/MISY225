{
 "cells": [
  {
   "cell_type": "code",
   "execution_count": 2,
   "metadata": {},
   "outputs": [],
   "source": [
    "import lightgbm as lgb\n",
    "import pandas as pd\n"
   ]
  },
  {
   "cell_type": "code",
   "execution_count": 3,
   "metadata": {},
   "outputs": [],
   "source": [
    "df = pd.read_csv('STATISTICAL_INFORMATION.csv', encoding='UTF-8')\n"
   ]
  },
  {
   "cell_type": "code",
   "execution_count": 17,
   "metadata": {},
   "outputs": [],
   "source": [
    "import lightgbm as lgb\n",
    "from sklearn.model_selection import train_test_split\n",
    "\n",
    "dataset = []\n",
    "cols = df.columns.tolist()\n",
    "for item in cols:\n",
    "    if item != 'LABLE' and item != 'ENROLLMENT_ID':\n",
    "        dataset.append(item)\n"
   ]
  },
  {
   "cell_type": "code",
   "execution_count": 20,
   "metadata": {},
   "outputs": [],
   "source": [
    "train_data = df[dataset]\n",
    "train_target = df['LABLE']\n",
    "x_train, x_test, y_train, y_test = train_test_split(train_data, train_target, test_size=0.2, random_state=0)"
   ]
  },
  {
   "cell_type": "code",
   "execution_count": null,
   "metadata": {},
   "outputs": [],
   "source": [
    "lgb_train = lgb.Dataset(x_train, y_train)\n",
    "lgb_test = lgb.Dataset(x_test, y_test, reference= lgb_train)\n",
    "\n",
    "params = {\n",
    "    'num_leaves': 31,\n",
    "    'learning_rate': 0.05,\n",
    "    'objective': 'binary',\n",
    "    'boosting': 'gbdt',\n",
    "    'metric': {'binary_logloss', 'auc'},\n",
    "    'max_depth' : 4,\n",
    "    'feature_fraction' : 0.9,\n",
    "    'bagging_fraction' : 0.8,\n",
    "    'bagging_freq' : 5,\n",
    "    'reg_alpha' : 0.001,\n",
    "    'reg_lambda' : 8,\n",
    "    'cat_smooth' : 0, \n",
    "\n",
    "}"
   ]
  },
  {
   "cell_type": "code",
   "execution_count": null,
   "metadata": {},
   "outputs": [],
   "source": [
    "print('Starting training')\n",
    "gbm = lgb.train(params, lgb_train, num_boost_round=200, \n",
    "valid_sets=lgb_test, early_stopping_rounds=60, feature_name=features)\n",
    "probs = clf.predict(x_test, num_iteration=clf.best_iteration)\n",
    "from sklearn import metrics\n",
    "metrics.roc_auc_score(y_test, probs)"
   ]
  }
 ],
 "metadata": {
  "kernelspec": {
   "display_name": "Python 3.10.6 ('ds')",
   "language": "python",
   "name": "python3"
  },
  "language_info": {
   "codemirror_mode": {
    "name": "ipython",
    "version": 3
   },
   "file_extension": ".py",
   "mimetype": "text/x-python",
   "name": "python",
   "nbconvert_exporter": "python",
   "pygments_lexer": "ipython3",
   "version": "3.10.6"
  },
  "orig_nbformat": 4,
  "vscode": {
   "interpreter": {
    "hash": "364d0cee56740df4cea25d5766d5535dea204bce6fac9cc39e08d8c0102e2b94"
   }
  }
 },
 "nbformat": 4,
 "nbformat_minor": 2
}
