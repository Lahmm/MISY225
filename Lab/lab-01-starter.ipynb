{
 "cells": [
  {
   "cell_type": "markdown",
   "metadata": {},
   "source": [
    "In the following cell, implement a simple game rental program:\n",
    "\n",
    "- two prices: newly released games $1.25 per day, old games $0.75 per day\n",
    "- use multiple input boxes to ask the users how many new and how many old games they want to rent and for how long\n",
    "- based on the input, calculate the total charge\n",
    "- use f-strings and escape character to print the result out as follows (total charge must be formatted as a float number with one decimal):\n",
    "\n",
    "<img width=\"352\" src=\"https://user-images.githubusercontent.com/595772/188787724-bca683b4-751e-4da0-b236-c532980b9f0c.png\">\n",
    "\n",
    " "
   ]
  },
  {
   "cell_type": "code",
   "execution_count": 3,
   "metadata": {},
   "outputs": [
    {
     "name": "stdout",
     "output_type": "stream",
     "text": [
      "The following is the order summary: \n",
      "new game's daily rate is $1.25 \n",
      "# of new games: 1 and the total rental days: 1\n",
      "old game's daily rate is $0.75 \n",
      "# of old games: 1 and the total rental days: 1\n",
      "--------------------\n",
      "The total charge is $2.0\n"
     ]
    }
   ],
   "source": [
    "# initialize price variables\n",
    "\n",
    "new_game_price = 1.25\n",
    "old_game_price = 0.75\n",
    "\n",
    "# ask user for inputs\n",
    "\n",
    "new_game_amount = int(input(\"How many new games do you need ?\"))\n",
    "new_game_days = int(input(\"How many days do you want to rent for the new games ?\"))\n",
    "old_game_amount = int(input(\"How many old games do you need ?\"))\n",
    "old_game_days = int(input(\"How many days do you want to rent for the old games ?\"))\n",
    "\n",
    "# calculate the total\n",
    "\n",
    "total_charge = new_game_amount*new_game_days*new_game_price + old_game_amount*old_game_days*old_game_price\n",
    "\n",
    "# print the result\n",
    "\n",
    "print('The following is the order summary: ')\n",
    "print(f'new game\\'s daily rate is $1.25 \\n# of new games: {new_game_amount} and the total rental days: {new_game_days}')\n",
    "print(f'old game\\'s daily rate is $0.75 \\n# of old games: {old_game_amount} and the total rental days: {old_game_days}')\n",
    "print('-'*20)\n",
    "print(f'The total charge is ${total_charge}')"
   ]
  }
 ],
 "metadata": {
  "kernelspec": {
   "display_name": "Python 3.10.6 ('ds')",
   "language": "python",
   "name": "python3"
  },
  "language_info": {
   "codemirror_mode": {
    "name": "ipython",
    "version": 3
   },
   "file_extension": ".py",
   "mimetype": "text/x-python",
   "name": "python",
   "nbconvert_exporter": "python",
   "pygments_lexer": "ipython3",
   "version": "3.10.6"
  },
  "orig_nbformat": 4,
  "vscode": {
   "interpreter": {
    "hash": "6aa245ddab06e39e8345a050ca8ee787a55ad745af37254f001f706cd749d484"
   }
  }
 },
 "nbformat": 4,
 "nbformat_minor": 2
}
