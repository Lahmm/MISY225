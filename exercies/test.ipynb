{
 "cells": [
  {
   "cell_type": "code",
   "execution_count": 1,
   "metadata": {},
   "outputs": [
    {
     "data": {
      "text/plain": [
       "[1, 2, 3, 4, 5]"
      ]
     },
     "execution_count": 1,
     "metadata": {},
     "output_type": "execute_result"
    }
   ],
   "source": [
    "numbers = list(range(1,6))\n",
    "numbers"
   ]
  },
  {
   "cell_type": "code",
   "execution_count": 6,
   "metadata": {},
   "outputs": [
    {
     "name": "stdout",
     "output_type": "stream",
     "text": [
      "<class 'str'>\n",
      "2hello\n",
      "2222222222\n"
     ]
    }
   ],
   "source": [
    "s = 2\n",
    "s = str(s)\n",
    "print(type(s))\n",
    "print(s + 'hello')\n",
    "print(s*10)"
   ]
  },
  {
   "cell_type": "code",
   "execution_count": 3,
   "metadata": {},
   "outputs": [
    {
     "name": "stdout",
     "output_type": "stream",
     "text": [
      "1\n",
      "2\n",
      "3\n",
      "4\n",
      "5\n",
      "6\n",
      "7\n",
      "8\n",
      "9\n",
      "10\n"
     ]
    }
   ],
   "source": [
    "numbers_2 = list(range(1,11,1))\n",
    "numbers_2\n",
    "for i in numbers_2:\n",
    "    print(i)"
   ]
  },
  {
   "cell_type": "code",
   "execution_count": 5,
   "metadata": {},
   "outputs": [
    {
     "name": "stdout",
     "output_type": "stream",
     "text": [
      "[1, 4, 9, 16, 25, 36, 49, 64, 81, 100]\n"
     ]
    }
   ],
   "source": [
    "squares = []\n",
    "for i in range(1,11):\n",
    "    squares.append(i**2)\n",
    "\n",
    "print(squares)"
   ]
  },
  {
   "cell_type": "code",
   "execution_count": 8,
   "metadata": {},
   "outputs": [
    {
     "name": "stdout",
     "output_type": "stream",
     "text": [
      "hellp\n",
      "hello\n",
      "hello\n",
      "ee\n",
      "aa\n",
      "fjfj\n",
      "quit\n"
     ]
    }
   ],
   "source": [
    "prompt = \"\\nTell me somrthing, and I will repeat it to you !\"\n",
    "prompt += \"\\nEnter 'quit' if you want to stop the program\"\n",
    "message = \"\"\n",
    "while message != 'quit':\n",
    "    message = input(prompt)\n",
    "    print(message)\n"
   ]
  },
  {
   "cell_type": "code",
   "execution_count": 9,
   "metadata": {},
   "outputs": [],
   "source": [
    "prompt = \"\\nTell me somrthing, and I will repeat it to you !\"\n",
    "prompt += \"\\nEnter 'quit' if you want to stop the program\"\n",
    "message = \"\"\n",
    "while message != 'quit':\n",
    "    message = input(prompt)\n",
    "\n",
    "    if message != 'quit':\n",
    "        print(message) "
   ]
  },
  {
   "cell_type": "code",
   "execution_count": 11,
   "metadata": {},
   "outputs": [
    {
     "name": "stdout",
     "output_type": "stream",
     "text": [
      "hello\n",
      "\n",
      "world\n",
      "\\n\n"
     ]
    }
   ],
   "source": [
    "prompt = \"\\nTell me somrthing, and I will repeat it to you !\"\n",
    "prompt += \"\\nEnter 'quit' if you want to stop the program\"\n",
    "\n",
    "active = True\n",
    "while active:\n",
    "    message = input(prompt)\n",
    "\n",
    "    if message == 'quit':\n",
    "        active = False\n",
    "    else:\n",
    "        print(message)"
   ]
  },
  {
   "cell_type": "code",
   "execution_count": 12,
   "metadata": {},
   "outputs": [
    {
     "name": "stdout",
     "output_type": "stream",
     "text": [
      "1212\n",
      "121231\n",
      "qiut\n"
     ]
    }
   ],
   "source": [
    "prompt = \"\\nTell me somrthing, and I will repeat it to you !\"\n",
    "prompt += \"\\nEnter 'quit' if you want to stop the program\"\n",
    "\n",
    "while True:\n",
    "    message = input(prompt)\n",
    "\n",
    "    if message == 'quit':\n",
    "        break\n",
    "    else:\n",
    "        print(message)"
   ]
  },
  {
   "cell_type": "code",
   "execution_count": 2,
   "metadata": {},
   "outputs": [
    {
     "name": "stdout",
     "output_type": "stream",
     "text": [
      "hello \n"
     ]
    }
   ],
   "source": [
    "str = 'hello world hello world\\n'\n",
    "print(str[0:6])"
   ]
  },
  {
   "cell_type": "code",
   "execution_count": 9,
   "metadata": {},
   "outputs": [
    {
     "name": "stdout",
     "output_type": "stream",
     "text": [
      "the rate is 0.33%\n"
     ]
    }
   ],
   "source": [
    "rate = 0.00325\n",
    "print(f'the rate is {rate:.2%}')"
   ]
  },
  {
   "cell_type": "code",
   "execution_count": 25,
   "metadata": {},
   "outputs": [
    {
     "name": "stdout",
     "output_type": "stream",
     "text": [
      "'\n",
      "hello\n",
      "world\n"
     ]
    }
   ],
   "source": [
    "print('\\'')\n",
    "print('hello\\nworld')"
   ]
  },
  {
   "cell_type": "code",
   "execution_count": 26,
   "metadata": {},
   "outputs": [
    {
     "name": "stdout",
     "output_type": "stream",
     "text": [
      "['Google']\n"
     ]
    }
   ],
   "source": [
    "mylist = ['Google', 'Tencent', 'Microsoft', 'Baidu', 'Alibaba']\n",
    "\n",
    "# 删除尾部元素\n",
    "mylist.pop()      # 会返回被删除元素\n",
    "# 删除指定位置的元素\n",
    "mylist.pop(1)  # 删除索引为1的元素，并返回删除的元素\n",
    "\n",
    "mylist.remove('Microsoft') #删除列表中的Microsoft\n",
    "\n",
    "del mylist[1:3]       #删除列表中索引位置1到位置 3 的数据\n",
    "\n",
    "print(mylist)"
   ]
  },
  {
   "cell_type": "code",
   "execution_count": 30,
   "metadata": {},
   "outputs": [
    {
     "name": "stdout",
     "output_type": "stream",
     "text": [
      "['Baidu', ['python', 'java', 'php']]\n"
     ]
    }
   ],
   "source": [
    "mylist2 = ['Baidu',['python', 'java', 'php']]\n",
    "\n",
    "print(mylist2)"
   ]
  },
  {
   "cell_type": "code",
   "execution_count": 31,
   "metadata": {},
   "outputs": [
    {
     "data": {
      "text/plain": [
       "['h', 'e', 'l', 'l', 'o', ' ', 'w', 'o', 'r', 'l', 'd']"
      ]
     },
     "execution_count": 31,
     "metadata": {},
     "output_type": "execute_result"
    }
   ],
   "source": [
    "list('hello world')"
   ]
  },
  {
   "cell_type": "code",
   "execution_count": 36,
   "metadata": {},
   "outputs": [
    {
     "name": "stdout",
     "output_type": "stream",
     "text": [
      "<class 'tuple'>\n"
     ]
    },
    {
     "data": {
      "text/plain": [
       "2"
      ]
     },
     "execution_count": 36,
     "metadata": {},
     "output_type": "execute_result"
    }
   ],
   "source": [
    "a = (1,2,3,4)\n",
    "a\n",
    "print(type(a))\n",
    "a[1]"
   ]
  },
  {
   "cell_type": "code",
   "execution_count": 37,
   "metadata": {},
   "outputs": [
    {
     "name": "stdout",
     "output_type": "stream",
     "text": [
      "<class 'set'>\n",
      "set()\n",
      "{1, 2, 3, 4, 5, 6, 7}\n"
     ]
    }
   ],
   "source": [
    "#集合的定义,set()\n",
    "s = set()\n",
    "print(type(s))\n",
    "print(s)\n",
    "\n",
    "#也可以像下面这样做,大括号内一定要有值，否则定义出的将是一个dict\n",
    "s = {1,2,3,4,5,6,7}\n",
    "print(s)"
   ]
  },
  {
   "cell_type": "code",
   "execution_count": 2,
   "metadata": {},
   "outputs": [
    {
     "name": "stdout",
     "output_type": "stream",
     "text": [
      "Below 20\n"
     ]
    }
   ],
   "source": [
    "x = 15\n",
    "if x < 2:\n",
    "    print('Below 2')\n",
    "elif x < 20:\n",
    "    print('Below 20')\n",
    "elif x < 10:\n",
    "    print('Below 10')\n",
    "else:\n",
    "    print('Someting else')"
   ]
  },
  {
   "cell_type": "code",
   "execution_count": 4,
   "metadata": {},
   "outputs": [
    {
     "name": "stdout",
     "output_type": "stream",
     "text": [
      "hello\n",
      "None\n",
      "bye\n"
     ]
    }
   ],
   "source": [
    "def say_hello():\n",
    "    print('hello')\n",
    "\n",
    "def say_goodbye():\n",
    "    return 'bye'\n",
    "\n",
    "a = say_hello()\n",
    "print(a)\n",
    "\n",
    "b = say_goodbye()\n",
    "print(b)"
   ]
  },
  {
   "cell_type": "code",
   "execution_count": 14,
   "metadata": {},
   "outputs": [
    {
     "name": "stdout",
     "output_type": "stream",
     "text": [
      "hello world python\n",
      "h e l l o w r o l d\n",
      "(100, 20)\n"
     ]
    }
   ],
   "source": [
    "a = 'hellowrold'\n",
    "b = ['hello', 'world', 'python']\n",
    "d = {'name': 100, 'age':20}\n",
    "print(*b)\n",
    "print(*a)\n",
    "def print_name(name,age):\n",
    "    return name, age\n",
    "\n",
    "print(print_name(**d))"
   ]
  }
 ],
 "metadata": {
  "kernelspec": {
   "display_name": "Python 3.10.6 ('ds')",
   "language": "python",
   "name": "python3"
  },
  "language_info": {
   "codemirror_mode": {
    "name": "ipython",
    "version": 3
   },
   "file_extension": ".py",
   "mimetype": "text/x-python",
   "name": "python",
   "nbconvert_exporter": "python",
   "pygments_lexer": "ipython3",
   "version": "3.10.6"
  },
  "orig_nbformat": 4,
  "vscode": {
   "interpreter": {
    "hash": "6aa245ddab06e39e8345a050ca8ee787a55ad745af37254f001f706cd749d484"
   }
  }
 },
 "nbformat": 4,
 "nbformat_minor": 2
}
