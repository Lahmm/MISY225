{
 "cells": [
  {
   "cell_type": "markdown",
   "metadata": {},
   "source": [
    "## Question 1\n",
    "\n",
    "Body Mass Index (BMI) is a simple calculation using a person’s height and weight. \n",
    "\n",
    "The formula is \n",
    "\n",
    "$BMI = \\frac{w}{h^2}$ \n",
    "\n",
    "\n",
    "where w is a person’s weight in **kilograms** and h is their height in **meters**.\n",
    "\n",
    "A BMI of 25.0 or more is overweight, while the healthy range is 18.5 to 24.9. \n",
    "\n",
    "Create a function to return BMI and print out underweight, normal, or overweight based on the returned BMI.\n",
    "\n",
    "test using three different ways to provide arguments\n",
    "\n",
    "- positional arguments\n",
    "- keyword arguments\n",
    "- unpacked dict"
   ]
  },
  {
   "cell_type": "code",
   "execution_count": 10,
   "metadata": {},
   "outputs": [],
   "source": [
    "# define the function\n",
    "def calculate_bmi(kilograms, meters):\n",
    "    bmi = kilograms/meters**2\n",
    "    return bmi"
   ]
  },
  {
   "cell_type": "code",
   "execution_count": 11,
   "metadata": {},
   "outputs": [],
   "source": [
    "# call function using positional arguments\n",
    "bmi = calculate_bmi(60,1.8)"
   ]
  },
  {
   "cell_type": "code",
   "execution_count": 12,
   "metadata": {},
   "outputs": [],
   "source": [
    "# call function using keyword arguments\n",
    "bmi = calculate_bmi(kilograms=60,meters=1.8)"
   ]
  },
  {
   "cell_type": "code",
   "execution_count": 13,
   "metadata": {},
   "outputs": [],
   "source": [
    "# call function using unpacked dict\n",
    "data_bmi = {'meters': 1.8, 'kilograms':60}\n",
    "bmi = calculate_bmi(**data_bmi)"
   ]
  },
  {
   "cell_type": "code",
   "execution_count": 14,
   "metadata": {},
   "outputs": [
    {
     "name": "stdout",
     "output_type": "stream",
     "text": [
      "Your BMI is 18.51851851851852: normal\n"
     ]
    }
   ],
   "source": [
    "# based on the bmi to print out the result\n",
    "if bmi > 24.9:\n",
    "    commment = 'overweight'\n",
    "elif bmi >= 18.5:\n",
    "    commment = 'normal'\n",
    "else:\n",
    "    commment = 'underweight'\n",
    "print(f'Your BMI is {bmi}: {commment}')"
   ]
  },
  {
   "cell_type": "markdown",
   "metadata": {},
   "source": [
    "## Question 2\n",
    "\n",
    "Create two lambda functions to do the following;\n",
    "\n",
    "1. filter the list to only show users with 'm'\n",
    "2. capitalize the first letter of all names"
   ]
  },
  {
   "cell_type": "code",
   "execution_count": 15,
   "metadata": {},
   "outputs": [],
   "source": [
    "data = ['Tom', 'John', 'tim', 'Mary', 'max', 'Anna']"
   ]
  },
  {
   "cell_type": "code",
   "execution_count": 16,
   "metadata": {},
   "outputs": [
    {
     "data": {
      "text/plain": [
       "['Mary', 'max']"
      ]
     },
     "execution_count": 16,
     "metadata": {},
     "output_type": "execute_result"
    }
   ],
   "source": [
    "# filter() with lambda function \n",
    "list(filter(lambda x: x.lower().find('m') == 0 , data))"
   ]
  },
  {
   "cell_type": "code",
   "execution_count": 17,
   "metadata": {},
   "outputs": [
    {
     "data": {
      "text/plain": [
       "['Tom', 'tim', 'Mary', 'max']"
      ]
     },
     "execution_count": 17,
     "metadata": {},
     "output_type": "execute_result"
    }
   ],
   "source": [
    "list(filter(lambda x: 'm' in x.lower(), data))"
   ]
  },
  {
   "cell_type": "code",
   "execution_count": 18,
   "metadata": {},
   "outputs": [
    {
     "data": {
      "text/plain": [
       "['Tom', 'John', 'Tim', 'Mary', 'Max', 'Anna']"
      ]
     },
     "execution_count": 18,
     "metadata": {},
     "output_type": "execute_result"
    }
   ],
   "source": [
    "# map() with lambda function\n",
    "list(map(lambda x: x.capitalize(),data))"
   ]
  }
 ],
 "metadata": {
  "kernelspec": {
   "display_name": "Python 3.10.6 ('ds')",
   "language": "python",
   "name": "python3"
  },
  "language_info": {
   "codemirror_mode": {
    "name": "ipython",
    "version": 3
   },
   "file_extension": ".py",
   "mimetype": "text/x-python",
   "name": "python",
   "nbconvert_exporter": "python",
   "pygments_lexer": "ipython3",
   "version": "3.10.6"
  },
  "orig_nbformat": 4,
  "vscode": {
   "interpreter": {
    "hash": "6aa245ddab06e39e8345a050ca8ee787a55ad745af37254f001f706cd749d484"
   }
  }
 },
 "nbformat": 4,
 "nbformat_minor": 2
}
