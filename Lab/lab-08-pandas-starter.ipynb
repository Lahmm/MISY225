{
 "cells": [
  {
   "cell_type": "markdown",
   "metadata": {},
   "source": [
    "# Question 1\n",
    "\n",
    "Read the country info csv file used in the lecture using pandas and finish the following questions.\n"
   ]
  },
  {
   "cell_type": "code",
   "execution_count": 27,
   "metadata": {},
   "outputs": [],
   "source": [
    "# import and read csv\n",
    "import pandas as pd\n",
    "df = pd.read_csv('countries-2021.csv')"
   ]
  },
  {
   "cell_type": "code",
   "execution_count": 28,
   "metadata": {},
   "outputs": [
    {
     "data": {
      "text/html": [
       "<div>\n",
       "<style scoped>\n",
       "    .dataframe tbody tr th:only-of-type {\n",
       "        vertical-align: middle;\n",
       "    }\n",
       "\n",
       "    .dataframe tbody tr th {\n",
       "        vertical-align: top;\n",
       "    }\n",
       "\n",
       "    .dataframe thead th {\n",
       "        text-align: right;\n",
       "    }\n",
       "</style>\n",
       "<table border=\"1\" class=\"dataframe\">\n",
       "  <thead>\n",
       "    <tr style=\"text-align: right;\">\n",
       "      <th></th>\n",
       "      <th>country</th>\n",
       "      <th>gdp</th>\n",
       "      <th>population</th>\n",
       "      <th>area</th>\n",
       "      <th>capital</th>\n",
       "      <th>continent</th>\n",
       "    </tr>\n",
       "  </thead>\n",
       "  <tbody>\n",
       "    <tr>\n",
       "      <th>6</th>\n",
       "      <td>India</td>\n",
       "      <td>2.72</td>\n",
       "      <td>1380.00</td>\n",
       "      <td>3.29</td>\n",
       "      <td>New Delhi</td>\n",
       "      <td>Asia</td>\n",
       "    </tr>\n",
       "    <tr>\n",
       "      <th>8</th>\n",
       "      <td>Brazil</td>\n",
       "      <td>1.87</td>\n",
       "      <td>212.56</td>\n",
       "      <td>8.52</td>\n",
       "      <td>Brasilia</td>\n",
       "      <td>South America</td>\n",
       "    </tr>\n",
       "  </tbody>\n",
       "</table>\n",
       "</div>"
      ],
      "text/plain": [
       "  country   gdp  population  area    capital      continent\n",
       "6   India  2.72     1380.00  3.29  New Delhi           Asia\n",
       "8  Brazil  1.87      212.56  8.52   Brasilia  South America"
      ]
     },
     "execution_count": 28,
     "metadata": {},
     "output_type": "execute_result"
    }
   ],
   "source": [
    "# show countries with population greater than 100 and gdp < 4\n",
    "df[(df.gdp < 4) & (df.population > 100)]"
   ]
  },
  {
   "cell_type": "markdown",
   "metadata": {},
   "source": [
    "show average population by continent sorted in descending order:\n",
    "\n",
    "```\n",
    "continent\n",
    "Asia             981.933333\n",
    "South America    212.560000\n",
    "North America    184.370000\n",
    "Europe            69.350000\n",
    "```\n"
   ]
  },
  {
   "cell_type": "code",
   "execution_count": 29,
   "metadata": {},
   "outputs": [
    {
     "data": {
      "text/plain": [
       "continent\n",
       "Asia             981.933333\n",
       "South America    212.560000\n",
       "North America    184.370000\n",
       "Europe            69.350000\n",
       "Name: population, dtype: float64"
      ]
     },
     "execution_count": 29,
     "metadata": {},
     "output_type": "execute_result"
    }
   ],
   "source": [
    "# show average population by continent\n",
    "df.groupby('continent')['population'].mean().sort_values(ascending=False)\n"
   ]
  },
  {
   "cell_type": "markdown",
   "metadata": {},
   "source": [
    "# Question 2\n",
    "\n",
    "Download the csv from https://www.kaggle.com/datasets/harrywang/housing and do the following analysis using pandas."
   ]
  },
  {
   "cell_type": "code",
   "execution_count": 30,
   "metadata": {},
   "outputs": [],
   "source": [
    "# read csv\n",
    "housing = pd.read_csv('housing.csv')\n"
   ]
  },
  {
   "cell_type": "code",
   "execution_count": 31,
   "metadata": {},
   "outputs": [
    {
     "data": {
      "text/plain": [
       "Index(['longitude', 'latitude', 'housing_median_age', 'total_rooms',\n",
       "       'total_bedrooms', 'population', 'households', 'median_income',\n",
       "       'median_house_value', 'ocean_proximity'],\n",
       "      dtype='object')"
      ]
     },
     "execution_count": 31,
     "metadata": {},
     "output_type": "execute_result"
    }
   ],
   "source": [
    "housing.columns"
   ]
  },
  {
   "cell_type": "code",
   "execution_count": 32,
   "metadata": {},
   "outputs": [
    {
     "data": {
      "text/html": [
       "<div>\n",
       "<style scoped>\n",
       "    .dataframe tbody tr th:only-of-type {\n",
       "        vertical-align: middle;\n",
       "    }\n",
       "\n",
       "    .dataframe tbody tr th {\n",
       "        vertical-align: top;\n",
       "    }\n",
       "\n",
       "    .dataframe thead th {\n",
       "        text-align: right;\n",
       "    }\n",
       "</style>\n",
       "<table border=\"1\" class=\"dataframe\">\n",
       "  <thead>\n",
       "    <tr style=\"text-align: right;\">\n",
       "      <th></th>\n",
       "      <th>median_house_value</th>\n",
       "      <th>median_income</th>\n",
       "      <th>population</th>\n",
       "    </tr>\n",
       "  </thead>\n",
       "  <tbody>\n",
       "    <tr>\n",
       "      <th>100</th>\n",
       "      <td>257800.0</td>\n",
       "      <td>2.4912</td>\n",
       "      <td>2304.0</td>\n",
       "    </tr>\n",
       "    <tr>\n",
       "      <th>101</th>\n",
       "      <td>273400.0</td>\n",
       "      <td>3.2177</td>\n",
       "      <td>2563.0</td>\n",
       "    </tr>\n",
       "    <tr>\n",
       "      <th>102</th>\n",
       "      <td>237500.0</td>\n",
       "      <td>3.1250</td>\n",
       "      <td>389.0</td>\n",
       "    </tr>\n",
       "    <tr>\n",
       "      <th>103</th>\n",
       "      <td>350000.0</td>\n",
       "      <td>2.5795</td>\n",
       "      <td>895.0</td>\n",
       "    </tr>\n",
       "    <tr>\n",
       "      <th>104</th>\n",
       "      <td>335700.0</td>\n",
       "      <td>2.8406</td>\n",
       "      <td>2689.0</td>\n",
       "    </tr>\n",
       "    <tr>\n",
       "      <th>105</th>\n",
       "      <td>313400.0</td>\n",
       "      <td>4.9306</td>\n",
       "      <td>674.0</td>\n",
       "    </tr>\n",
       "    <tr>\n",
       "      <th>106</th>\n",
       "      <td>268500.0</td>\n",
       "      <td>3.2727</td>\n",
       "      <td>709.0</td>\n",
       "    </tr>\n",
       "    <tr>\n",
       "      <th>107</th>\n",
       "      <td>259400.0</td>\n",
       "      <td>3.1691</td>\n",
       "      <td>686.0</td>\n",
       "    </tr>\n",
       "    <tr>\n",
       "      <th>108</th>\n",
       "      <td>275700.0</td>\n",
       "      <td>3.9000</td>\n",
       "      <td>1444.0</td>\n",
       "    </tr>\n",
       "    <tr>\n",
       "      <th>109</th>\n",
       "      <td>225000.0</td>\n",
       "      <td>3.9063</td>\n",
       "      <td>1520.0</td>\n",
       "    </tr>\n",
       "    <tr>\n",
       "      <th>110</th>\n",
       "      <td>262500.0</td>\n",
       "      <td>5.0917</td>\n",
       "      <td>550.0</td>\n",
       "    </tr>\n",
       "  </tbody>\n",
       "</table>\n",
       "</div>"
      ],
      "text/plain": [
       "     median_house_value  median_income  population\n",
       "100            257800.0         2.4912      2304.0\n",
       "101            273400.0         3.2177      2563.0\n",
       "102            237500.0         3.1250       389.0\n",
       "103            350000.0         2.5795       895.0\n",
       "104            335700.0         2.8406      2689.0\n",
       "105            313400.0         4.9306       674.0\n",
       "106            268500.0         3.2727       709.0\n",
       "107            259400.0         3.1691       686.0\n",
       "108            275700.0         3.9000      1444.0\n",
       "109            225000.0         3.9063      1520.0\n",
       "110            262500.0         5.0917       550.0"
      ]
     },
     "execution_count": 32,
     "metadata": {},
     "output_type": "execute_result"
    }
   ],
   "source": [
    "# show the data rows from 100 to 110 with only median value, median income, and population\n",
    "housing.loc[100:110, ['median_house_value', 'median_income', 'population']]"
   ]
  },
  {
   "cell_type": "markdown",
   "metadata": {},
   "source": [
    "show the percentage of houses according to ocean_proximity:\n",
    "\n",
    "```\n",
    "<1H OCEAN     0.442636\n",
    "INLAND        0.317393\n",
    "NEAR OCEAN    0.128779\n",
    "NEAR BAY      0.110950\n",
    "ISLAND        0.000242\n",
    "```"
   ]
  },
  {
   "cell_type": "code",
   "execution_count": 33,
   "metadata": {},
   "outputs": [
    {
     "data": {
      "text/plain": [
       "<1H OCEAN     0.442636\n",
       "INLAND        0.317393\n",
       "NEAR OCEAN    0.128779\n",
       "NEAR BAY      0.110950\n",
       "ISLAND        0.000242\n",
       "Name: ocean_proximity, dtype: float64"
      ]
     },
     "execution_count": 33,
     "metadata": {},
     "output_type": "execute_result"
    }
   ],
   "source": [
    "# show the percentage of houses according to ocean_proximity\n",
    "housing.ocean_proximity.value_counts(normalize=True)"
   ]
  },
  {
   "cell_type": "markdown",
   "metadata": {},
   "source": [
    "Calculate the average income by ocean proximity and find out which group has the highest and lowest income:\n",
    "\n",
    "- Highest: <1H OCEAN\n",
    "- Lowest: ISLAND"
   ]
  },
  {
   "cell_type": "code",
   "execution_count": 34,
   "metadata": {},
   "outputs": [
    {
     "data": {
      "text/plain": [
       "ocean_proximity\n",
       "ISLAND        2.744420\n",
       "INLAND        3.208996\n",
       "NEAR OCEAN    4.005785\n",
       "NEAR BAY      4.172885\n",
       "<1H OCEAN     4.230682\n",
       "Name: median_income, dtype: float64"
      ]
     },
     "execution_count": 34,
     "metadata": {},
     "output_type": "execute_result"
    }
   ],
   "source": [
    "# Calculate the average income by ocean proximity and find out which group has the highest and lowest income\n",
    "housing.groupby('ocean_proximity')['median_income'].mean().sort_values()"
   ]
  },
  {
   "cell_type": "code",
   "execution_count": 35,
   "metadata": {},
   "outputs": [
    {
     "name": "stdout",
     "output_type": "stream",
     "text": [
      "Highest: <1H OCEAN\n",
      "Lowest: ISLAND\n"
     ]
    }
   ],
   "source": [
    "print(f\"Highest: {housing.groupby('ocean_proximity')['median_income'].mean().sort_values().index[4]}\")\n",
    "print(f\"Lowest: {housing.groupby('ocean_proximity')['median_income'].mean().sort_values().index[0]}\")"
   ]
  }
 ],
 "metadata": {
  "kernelspec": {
   "display_name": "Python 3.10.6 ('ds')",
   "language": "python",
   "name": "python3"
  },
  "language_info": {
   "codemirror_mode": {
    "name": "ipython",
    "version": 3
   },
   "file_extension": ".py",
   "mimetype": "text/x-python",
   "name": "python",
   "nbconvert_exporter": "python",
   "pygments_lexer": "ipython3",
   "version": "3.10.6"
  },
  "orig_nbformat": 4,
  "vscode": {
   "interpreter": {
    "hash": "364d0cee56740df4cea25d5766d5535dea204bce6fac9cc39e08d8c0102e2b94"
   }
  }
 },
 "nbformat": 4,
 "nbformat_minor": 2
}
