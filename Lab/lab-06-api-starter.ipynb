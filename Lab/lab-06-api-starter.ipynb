{
 "cells": [
  {
   "cell_type": "markdown",
   "metadata": {},
   "source": [
    "# Question 1\n",
    "\n",
    "Follow the Unsplash API tutorial and do the followings:\n",
    "\n",
    "- get a random image from the server\n",
    "- show the image\n",
    "- show the data about views, likes, and downloads of the image as follows (your numbers may differ)\n",
    "\n",
    "```\n",
    "The image has 183681 views and 59 likes and has been downloaded 1711 times.\n",
    "```"
   ]
  },
  {
   "cell_type": "code",
   "execution_count": 2,
   "metadata": {},
   "outputs": [],
   "source": [
    "from random import random\n",
    "from tkinter import image_names\n",
    "import requests\n",
    "import json\n",
    "\n",
    "headers = {\n",
    "    'Authorization': 'Client-ID XNCxEK57_tKnGLTsKYVi83IiuABO64giPRXUqUnIPbM' \n",
    "}\n",
    "\n",
    "base_url = 'https://api.unsplash.com'\n",
    "\n",
    "random_photo_url = base_url + '/photos/random'\n",
    "\n",
    "response = requests.request('GET', random_photo_url, headers=headers)\n",
    "\n",
    "random_photo = response.json()\n"
   ]
  },
  {
   "cell_type": "code",
   "execution_count": 3,
   "metadata": {},
   "outputs": [
    {
     "name": "stdout",
     "output_type": "stream",
     "text": [
      "dict_keys(['id', 'created_at', 'updated_at', 'promoted_at', 'width', 'height', 'color', 'blur_hash', 'description', 'alt_description', 'urls', 'links', 'likes', 'liked_by_user', 'current_user_collections', 'sponsorship', 'topic_submissions', 'user', 'exif', 'location', 'views', 'downloads'])\n"
     ]
    }
   ],
   "source": [
    "# show the keys of the returned photo data\n",
    "print(random_photo.keys())"
   ]
  },
  {
   "cell_type": "code",
   "execution_count": 4,
   "metadata": {},
   "outputs": [
    {
     "data": {
      "text/html": [
       "<img src=\"https://images.unsplash.com/photo-1663236474082-3aa1281d3115?crop=entropy&cs=tinysrgb&fit=max&fm=jpg&ixid=MnwzNzA2Mzd8MHwxfHJhbmRvbXx8fHx8fHx8fDE2NjU0MTA0NTM&ixlib=rb-1.2.1&q=80&w=1080\"/>"
      ],
      "text/plain": [
       "<IPython.core.display.Image object>"
      ]
     },
     "execution_count": 4,
     "metadata": {},
     "output_type": "execute_result"
    }
   ],
   "source": [
    "# show the image in the notebook\n",
    "from IPython.display import display, Image\n",
    "image_url_regular = random_photo['urls']['regular']\n",
    "Image(url = image_url_regular)"
   ]
  },
  {
   "cell_type": "code",
   "execution_count": 5,
   "metadata": {},
   "outputs": [
    {
     "name": "stdout",
     "output_type": "stream",
     "text": [
      "The image has 362036 views and 35 likes and has been downloaded 1647 times\n"
     ]
    }
   ],
   "source": [
    "# print the summary info\n",
    "print(f\"The image has {random_photo['views']} views and {random_photo['likes']} likes and has been downloaded {random_photo['downloads']} times\")\n"
   ]
  },
  {
   "cell_type": "markdown",
   "metadata": {},
   "source": [
    "# Question 2\n",
    "\n",
    "Read the API docs at https://unsplash.com/documentation#list-photos to do the followings:\n",
    "\n",
    "- get the list of photos from Editorial feed (by default, the front page shows the editorial feed https://unsplash.com/ )\n",
    "<img width=\"1434\" src=\"https://user-images.githubusercontent.com/595772/194735953-576745e0-7649-4718-86f8-f9317f4e3fbd.png\">\n",
    "\n",
    "- by default, 10 images are returned, change that parameter to get 15 images instead\n",
    "- based on the returned 15 images:\n",
    "    1. find the image with the most likes and show it in the notebook\n",
    "    2. calculate the max, min, and average downloads of the 15 images (hint: you need the ids of the images and then get the download data from another API: https://unsplash.com/documentation#get-a-photo)\n",
    "\n",
    "    Sample Output:\n",
    "    ```\n",
    "    The download data summary is: max (30357), min(240), average(4982)\n",
    "    ```"
   ]
  },
  {
   "cell_type": "code",
   "execution_count": 6,
   "metadata": {},
   "outputs": [],
   "source": [
    "# get the photos info\n",
    "import requests\n",
    "\n",
    "headers = {\n",
    "    'Authorization': 'Client-ID XNCxEK57_tKnGLTsKYVi83IiuABO64giPRXUqUnIPbM'\n",
    "}\n",
    "\n",
    "base_url = 'https://api.unsplash.com'\n",
    "\n",
    "photos_url = base_url + '/photos?per_page=15'\n",
    "\n",
    "response = requests.request('GET', photos_url, headers = headers)\n",
    "\n",
    "photos = response.json()\n"
   ]
  },
  {
   "cell_type": "code",
   "execution_count": 7,
   "metadata": {},
   "outputs": [
    {
     "data": {
      "text/html": [
       "<img src=\"https://images.unsplash.com/photo-1661956600654-edac218fea67?crop=entropy&cs=tinysrgb&fit=max&fm=jpg&ixid=MnwzNzA2Mzd8MXwxfGFsbHwxMXx8fHx8fDJ8fDE2NjU0MTA0NTQ&ixlib=rb-1.2.1&q=80&w=1080\"/>"
      ],
      "text/plain": [
       "<IPython.core.display.Image object>"
      ]
     },
     "metadata": {},
     "output_type": "display_data"
    },
    {
     "name": "stdout",
     "output_type": "stream",
     "text": [
      "the most likes number is 98\n"
     ]
    }
   ],
   "source": [
    "# find the image with most likes\n",
    "most_like = 0\n",
    "\n",
    "for photo in photos:\n",
    "    if photo['likes'] > most_like:\n",
    "        most_like = photo['likes']\n",
    "        most_like_photo = photo\n",
    "\n",
    "from IPython.display import Image, display\n",
    "display(Image(url=most_like_photo['urls']['regular']))\n",
    "print(f'the most likes number is {most_like}')"
   ]
  },
  {
   "cell_type": "code",
   "execution_count": 8,
   "metadata": {},
   "outputs": [
    {
     "name": "stdout",
     "output_type": "stream",
     "text": [
      "https://api.unsplash.com/photos/exSKJMg-_vI\n"
     ]
    },
    {
     "data": {
      "text/plain": [
       "{'id': 'qTbT7ldEMfo',\n",
       " 'created_at': '2022-10-07T11:19:07Z',\n",
       " 'updated_at': '2022-10-10T12:05:27Z',\n",
       " 'promoted_at': '2022-10-10T12:05:27Z',\n",
       " 'width': 4781,\n",
       " 'height': 2689,\n",
       " 'color': '#8ca6a6',\n",
       " 'blur_hash': 'LKCHZbt:56E1?cn#I9a#$+sRjFoh',\n",
       " 'description': None,\n",
       " 'alt_description': None,\n",
       " 'urls': {'raw': 'https://images.unsplash.com/photo-1665141530020-6df603c446c1?ixid=MnwzNzA2Mzd8MHwxfGFsbHwxNXx8fHx8fDJ8fDE2NjU0MTA0NTQ&ixlib=rb-1.2.1',\n",
       "  'full': 'https://images.unsplash.com/photo-1665141530020-6df603c446c1?crop=entropy&cs=tinysrgb&fm=jpg&ixid=MnwzNzA2Mzd8MHwxfGFsbHwxNXx8fHx8fDJ8fDE2NjU0MTA0NTQ&ixlib=rb-1.2.1&q=80',\n",
       "  'regular': 'https://images.unsplash.com/photo-1665141530020-6df603c446c1?crop=entropy&cs=tinysrgb&fit=max&fm=jpg&ixid=MnwzNzA2Mzd8MHwxfGFsbHwxNXx8fHx8fDJ8fDE2NjU0MTA0NTQ&ixlib=rb-1.2.1&q=80&w=1080',\n",
       "  'small': 'https://images.unsplash.com/photo-1665141530020-6df603c446c1?crop=entropy&cs=tinysrgb&fit=max&fm=jpg&ixid=MnwzNzA2Mzd8MHwxfGFsbHwxNXx8fHx8fDJ8fDE2NjU0MTA0NTQ&ixlib=rb-1.2.1&q=80&w=400',\n",
       "  'thumb': 'https://images.unsplash.com/photo-1665141530020-6df603c446c1?crop=entropy&cs=tinysrgb&fit=max&fm=jpg&ixid=MnwzNzA2Mzd8MHwxfGFsbHwxNXx8fHx8fDJ8fDE2NjU0MTA0NTQ&ixlib=rb-1.2.1&q=80&w=200',\n",
       "  'small_s3': 'https://s3.us-west-2.amazonaws.com/images.unsplash.com/small/photo-1665141530020-6df603c446c1'},\n",
       " 'links': {'self': 'https://api.unsplash.com/photos/qTbT7ldEMfo',\n",
       "  'html': 'https://unsplash.com/photos/qTbT7ldEMfo',\n",
       "  'download': 'https://unsplash.com/photos/qTbT7ldEMfo/download?ixid=MnwzNzA2Mzd8MHwxfGFsbHwxNXx8fHx8fDJ8fDE2NjU0MTA0NTQ',\n",
       "  'download_location': 'https://api.unsplash.com/photos/qTbT7ldEMfo/download?ixid=MnwzNzA2Mzd8MHwxfGFsbHwxNXx8fHx8fDJ8fDE2NjU0MTA0NTQ'},\n",
       " 'likes': 10,\n",
       " 'liked_by_user': False,\n",
       " 'current_user_collections': [],\n",
       " 'sponsorship': None,\n",
       " 'topic_submissions': {},\n",
       " 'user': {'id': 'IPZZlg8belY',\n",
       "  'updated_at': '2022-10-10T13:49:50Z',\n",
       "  'username': 'jowye81',\n",
       "  'name': 'Jaume Jovell',\n",
       "  'first_name': 'Jaume',\n",
       "  'last_name': 'Jovell',\n",
       "  'twitter_username': 'Jowye81',\n",
       "  'portfolio_url': None,\n",
       "  'bio': '🏠Catalunya\\r\\n 📸Photographer',\n",
       "  'location': 'Artesa de Segre',\n",
       "  'links': {'self': 'https://api.unsplash.com/users/jowye81',\n",
       "   'html': 'https://unsplash.com/@jowye81',\n",
       "   'photos': 'https://api.unsplash.com/users/jowye81/photos',\n",
       "   'likes': 'https://api.unsplash.com/users/jowye81/likes',\n",
       "   'portfolio': 'https://api.unsplash.com/users/jowye81/portfolio',\n",
       "   'following': 'https://api.unsplash.com/users/jowye81/following',\n",
       "   'followers': 'https://api.unsplash.com/users/jowye81/followers'},\n",
       "  'profile_image': {'small': 'https://images.unsplash.com/profile-1663790051682-d686d9044a84image?ixlib=rb-1.2.1&crop=faces&fit=crop&w=32&h=32',\n",
       "   'medium': 'https://images.unsplash.com/profile-1663790051682-d686d9044a84image?ixlib=rb-1.2.1&crop=faces&fit=crop&w=64&h=64',\n",
       "   'large': 'https://images.unsplash.com/profile-1663790051682-d686d9044a84image?ixlib=rb-1.2.1&crop=faces&fit=crop&w=128&h=128'},\n",
       "  'instagram_username': 'Jowye1981',\n",
       "  'total_collections': 0,\n",
       "  'total_likes': 40,\n",
       "  'total_photos': 40,\n",
       "  'accepted_tos': True,\n",
       "  'for_hire': True,\n",
       "  'social': {'instagram_username': 'Jowye1981',\n",
       "   'portfolio_url': None,\n",
       "   'twitter_username': 'Jowye81',\n",
       "   'paypal_email': None}}}"
      ]
     },
     "execution_count": 8,
     "metadata": {},
     "output_type": "execute_result"
    }
   ],
   "source": [
    "# get the download data for one image as a test\n",
    "\n",
    "base_url = 'https://api.unsplash.com'\n",
    "\n",
    "photos_url_id = base_url + '/photos/' + photos[0]['id']\n",
    "print(photos_url_id)\n",
    "response = requests.request('GET', photos_url_id, headers = headers)\n",
    "photo_get_by_id = response.json()\n",
    "photo\n",
    "\n"
   ]
  },
  {
   "cell_type": "code",
   "execution_count": 9,
   "metadata": {},
   "outputs": [
    {
     "name": "stdout",
     "output_type": "stream",
     "text": [
      "https://api.unsplash.com/photos/exSKJMg-_vI\n",
      "https://api.unsplash.com/photos/KPHwwF2WOjI\n",
      "https://api.unsplash.com/photos/iqJmuMWD0G4\n",
      "https://api.unsplash.com/photos/cBF0_qoNswY\n",
      "https://api.unsplash.com/photos/MWR7xBDc4zU\n",
      "https://api.unsplash.com/photos/YzLMmxDTrvI\n",
      "https://api.unsplash.com/photos/QGcwUR3KTZ4\n",
      "https://api.unsplash.com/photos/XtBVDkU99so\n",
      "https://api.unsplash.com/photos/s-mZRL7ohVA\n",
      "https://api.unsplash.com/photos/C5ASTQsrr_w\n",
      "https://api.unsplash.com/photos/4ct0iDMOjuc\n",
      "https://api.unsplash.com/photos/j-NR4-JLATs\n",
      "https://api.unsplash.com/photos/KHgBaJbmGg4\n",
      "https://api.unsplash.com/photos/3QPIH0_BFw0\n",
      "https://api.unsplash.com/photos/qTbT7ldEMfo\n"
     ]
    }
   ],
   "source": [
    "# get all photo info and save into a list\n",
    "base_url = 'https://api.unsplash.com'\n",
    "\n",
    "photo_list = []\n",
    "\n",
    "for i in range(0,15):\n",
    "    photos_url_id = base_url + '/photos/' + photos[i]['id']\n",
    "    print(photos_url_id)\n",
    "    response = requests.request('GET', photos_url_id, headers = headers)\n",
    "    photo_get_by_id = response.json()\n",
    "    photo_list.append(photo_get_by_id)\n"
   ]
  },
  {
   "cell_type": "code",
   "execution_count": 10,
   "metadata": {},
   "outputs": [
    {
     "name": "stdout",
     "output_type": "stream",
     "text": [
      "[5934, 6, 1, 31, 186, 3746, 2, 1, 2, 122, 15723, 146, 147, 105, 121]\n"
     ]
    }
   ],
   "source": [
    "# loop over the list to get the download summary\n",
    "downloads_summary = []\n",
    "\n",
    "for photo in photo_list:\n",
    "    downloads_summary.append(photo['downloads'])\n",
    "\n",
    "print(downloads_summary)\n",
    "\n",
    "    \n"
   ]
  },
  {
   "cell_type": "code",
   "execution_count": 11,
   "metadata": {},
   "outputs": [
    {
     "name": "stdout",
     "output_type": "stream",
     "text": [
      "The download data summary is: max (15723), min(1), average(1751)\n"
     ]
    }
   ],
   "source": [
    "# calculate and print out the download summary\n",
    "downloads_summary.sort()\n",
    "\n",
    "sum = 0\n",
    "for likes in downloads_summary:\n",
    "    sum += likes\n",
    "average = sum // len(downloads_summary)\n",
    "print(f'The download data summary is: max ({downloads_summary[len(downloads_summary)-1]}), min({downloads_summary[0]}), average({average})')\n"
   ]
  }
 ],
 "metadata": {
  "kernelspec": {
   "display_name": "Python 3.10.6 ('ds')",
   "language": "python",
   "name": "python3"
  },
  "language_info": {
   "codemirror_mode": {
    "name": "ipython",
    "version": 3
   },
   "file_extension": ".py",
   "mimetype": "text/x-python",
   "name": "python",
   "nbconvert_exporter": "python",
   "pygments_lexer": "ipython3",
   "version": "3.10.6"
  },
  "orig_nbformat": 4,
  "vscode": {
   "interpreter": {
    "hash": "6aa245ddab06e39e8345a050ca8ee787a55ad745af37254f001f706cd749d484"
   }
  }
 },
 "nbformat": 4,
 "nbformat_minor": 2
}
