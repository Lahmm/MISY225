{
 "cells": [
  {
   "cell_type": "markdown",
   "metadata": {},
   "source": [
    "# Assignment 2\n",
    "\n",
    "You need to complete the following programs."
   ]
  },
  {
   "cell_type": "markdown",
   "metadata": {},
   "source": [
    "## Questions 1\n",
    "\n",
    "Use a while loop to iterate over a list of integers from 1 to 30：\n",
    "\n",
    "- only print odd numbers\n",
    "- skip all numbers that are the multiples of 7\n",
    "- stop the loop if encounters number 23\n",
    "\n",
    "The sample output is shown below:\n",
    "\n",
    "<img width=\"370\" src=\"https://user-images.githubusercontent.com/595772/190901589-8321d0f0-a97d-4f30-96a5-a1e701793827.png\">\n"
   ]
  },
  {
   "cell_type": "code",
   "execution_count": 16,
   "metadata": {},
   "outputs": [
    {
     "name": "stdout",
     "output_type": "stream",
     "text": [
      "the current number is 1, which is an odd number\n",
      "the current number is 3, which is an odd number\n",
      "the current number is 5, which is an odd number\n",
      "the current number is 9, which is an odd number\n",
      "the current number is 11, which is an odd number\n",
      "the current number is 13, which is an odd number\n",
      "the current number is 15, which is an odd number\n",
      "the current number is 17, which is an odd number\n",
      "the current number is 19, which is an odd number\n"
     ]
    }
   ],
   "source": [
    "# question 1\n",
    "numbers = list(range(1,31))\n",
    "i = 0\n",
    "while i < 30:\n",
    "    if numbers[i] < 23 :\n",
    "        if numbers[i] %2 !=0 and numbers[i] %7 !=0:\n",
    "            print(f'the current number is {numbers[i]}, which is an odd number')\n",
    "    else:\n",
    "        break\n",
    "    i += 1"
   ]
  },
  {
   "cell_type": "markdown",
   "metadata": {},
   "source": [
    "## Question 2\n",
    "\n",
    "Create a password verification program:\n",
    "\n",
    "- ask the user to enter the password\n",
    "- if the user enter anything other than the password 'Open Sesame', print wrong password prompt 'Wrong Password, Try Again!'\n",
    "- if the user enter wrong password 3 or more times, exit the program and print 'You are blocked'\n",
    "- if the password is correct, print 'Door Opening...'"
   ]
  },
  {
   "cell_type": "code",
   "execution_count": 1,
   "metadata": {},
   "outputs": [
    {
     "name": "stdout",
     "output_type": "stream",
     "text": [
      "Wrong Password,Try Again!\n",
      "Wrong Password,Try Again!\n",
      "You are blocked\n"
     ]
    }
   ],
   "source": [
    "# question 2\n",
    "\n",
    "prompt_wrong = 'Wrong Password,Try Again!'\n",
    "prompt_right = 'Door Opening...'\n",
    "prompt_block = 'You are blocked'\n",
    "i = 1\n",
    "block = True\n",
    "while block:\n",
    "    password = input('Input your password')\n",
    "    if password == 'Open Sesame':\n",
    "            print(prompt_right)\n",
    "            break\n",
    "    else:\n",
    "        if i < 3:\n",
    "            print(prompt_wrong)\n",
    "        else:\n",
    "            print(prompt_block)\n",
    "            block = False # use this boolean variable to flag whether a user should be blocked or not\n",
    "    i += 1\n",
    "        "
   ]
  },
  {
   "cell_type": "markdown",
   "metadata": {},
   "source": [
    "## Question 3\n",
    " \n",
    "In this task, you will create a simple lottery program. The rules are as follows:\n",
    "\n",
    "- There are a number of lucy numbers in the draw\n",
    "- Each customer has bought a number of lottery tickets with different numbers and multiples\n",
    "- If the ticket number matches any lucy numbers, the customer wins $10 * multiple prize\n",
    "- The names of the winners and the total payout will be announced\n",
    "\n",
    "The sample output is:\n",
    "\n",
    "<img width=\"306\" src=\"https://user-images.githubusercontent.com/595772/190905070-d90911db-3419-46e9-b3b7-1105d9417e6e.png\">"
   ]
  },
  {
   "cell_type": "code",
   "execution_count": 25,
   "metadata": {},
   "outputs": [],
   "source": [
    "draw = [34, 56, 24, 78, 42]\n",
    "customers = [\n",
    "    {\n",
    "        'name':'Tom', \n",
    "        'tickets': [\n",
    "            {'number': 23, 'multiple': 1},\n",
    "            {'number': 42, 'multiple': 3},\n",
    "        ],\n",
    "    },\n",
    "    {\n",
    "        'name':'Lucy', \n",
    "        'tickets': [\n",
    "            {'number': 23, 'multiple': 2},\n",
    "            {'number': 55, 'multiple': 1},\n",
    "        ],\n",
    "    },\n",
    "    {\n",
    "        'name':'John', \n",
    "        'tickets': [\n",
    "            {'number': 34, 'multiple': 5},\n",
    "            {'number': 11, 'multiple': 3},\n",
    "        ],\n",
    "    },\n",
    "    {\n",
    "        'name':'Emma', \n",
    "        'tickets': [\n",
    "            {'number': 56, 'multiple': 1},\n",
    "            {'number': 78, 'multiple': 2},\n",
    "        ],\n",
    "    },\n",
    "]\n",
    "\n",
    "winners = []\n",
    "total = 0\n"
   ]
  },
  {
   "cell_type": "code",
   "execution_count": 26,
   "metadata": {},
   "outputs": [
    {
     "name": "stdout",
     "output_type": "stream",
     "text": [
      "The winners are: ['John', 'Emma', 'Tom']\n",
      "The total payout is $110\n"
     ]
    }
   ],
   "source": [
    "for number_in_draw in draw:\n",
    "    for customer in customers:\n",
    "        for ticket in customer['tickets']:\n",
    "            if ticket['number'] == number_in_draw:      \n",
    "                    total += ticket['multiple']*10\n",
    "                    if customer['name'] in winners:\n",
    "                        continue\n",
    "                    else:\n",
    "                        winners.append(customer['name'])   \n",
    "            else:\n",
    "                continue\n",
    "print(f'The winners are: {winners}')\n",
    "print(f'The total payout is ${total}')"
   ]
  }
 ],
 "metadata": {
  "kernelspec": {
   "display_name": "Python 3.10.6 ('ds')",
   "language": "python",
   "name": "python3"
  },
  "language_info": {
   "codemirror_mode": {
    "name": "ipython",
    "version": 3
   },
   "file_extension": ".py",
   "mimetype": "text/x-python",
   "name": "python",
   "nbconvert_exporter": "python",
   "pygments_lexer": "ipython3",
   "version": "3.10.6"
  },
  "orig_nbformat": 4,
  "vscode": {
   "interpreter": {
    "hash": "6aa245ddab06e39e8345a050ca8ee787a55ad745af37254f001f706cd749d484"
   }
  }
 },
 "nbformat": 4,
 "nbformat_minor": 2
}
