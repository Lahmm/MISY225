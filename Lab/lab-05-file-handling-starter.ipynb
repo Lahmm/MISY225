{
 "cells": [
  {
   "cell_type": "markdown",
   "metadata": {},
   "source": [
    "## Question 1\n",
    "\n",
    "Read the `about-a-girl.txt` file using Python, which has the lyrics of Nirvana's song \"About a girl\".\n",
    "\n",
    "Calculate how many times 'I Do' appears in the lyrics.\n"
   ]
  },
  {
   "cell_type": "code",
   "execution_count": 7,
   "metadata": {},
   "outputs": [
    {
     "data": {
      "text/plain": [
       "14"
      ]
     },
     "execution_count": 7,
     "metadata": {},
     "output_type": "execute_result"
    }
   ],
   "source": [
    "f = open('about-a-girl.txt')\n",
    "lrc = f.read()\n",
    "f.close()\n",
    "lrc.lower().count('i do')\n"
   ]
  },
  {
   "cell_type": "markdown",
   "metadata": {},
   "source": [
    "## Question 2\n",
    "\n",
    "Create a text file named `under-pressure.txt` and write the following lines (one line at a time) into the file:\n",
    "\n",
    "```\n",
    "Under Pressure by Queen\n",
    "Pressure\n",
    "pushing down on me\n",
    "Pressing down on you\n",
    "no man ask for\n",
    "```"
   ]
  },
  {
   "cell_type": "code",
   "execution_count": 3,
   "metadata": {},
   "outputs": [],
   "source": [
    "f = open('under-pressure.txt','w')\n",
    "f.write('Under Pressure by Queen\\n')\n",
    "f.write('Pressure\\n')\n",
    "f.write('pushing down on me\\n')\n",
    "f.write('Pressing down on you\\n')\n",
    "f.write('no man ask for')\n",
    "f.close()"
   ]
  },
  {
   "cell_type": "markdown",
   "metadata": {},
   "source": [
    "## Question 3\n",
    "\n",
    "The `https://openlibrary.org/authors/[author key]/works.json` returns works by an author according to his/her identifier key.\n",
    "\n",
    "Use the `https://openlibrary.org/search/authors.json` to search for 'j k rowling' and get her identifier key and get all her works and save the result into a json file named `works.json`."
   ]
  },
  {
   "cell_type": "code",
   "execution_count": 12,
   "metadata": {},
   "outputs": [
    {
     "name": "stdout",
     "output_type": "stream",
     "text": [
      "j%20k%20rowling\n",
      "https://openlibrary.org/search/authors.json?q=j%20k%20rowling\n"
     ]
    }
   ],
   "source": [
    "# get the author data\n",
    "import json\n",
    "import urllib.parse\n",
    "import requests\n",
    "api_url = 'https://openlibrary.org/search/authors.json'\n",
    "name = 'j k rowling'\n",
    "name_encoded = urllib.parse.quote(name)\n",
    "print(name_encoded)\n",
    "final_search_url = api_url + '?q=' + name_encoded\n",
    "print(final_search_url)\n",
    "response = requests.request('GET',final_search_url)\n",
    "search = response.json()\n"
   ]
  },
  {
   "cell_type": "code",
   "execution_count": 13,
   "metadata": {},
   "outputs": [],
   "source": [
    "# find the id and get the works data\n",
    "author_key = search['docs'][0]['key']\n",
    "\n",
    "works_url = 'https://openlibrary.org/authors/' + author_key + '/works.json'\n",
    "\n",
    "response = requests.request('GET',works_url)\n",
    "\n",
    "works = response.json()"
   ]
  },
  {
   "cell_type": "code",
   "execution_count": null,
   "metadata": {},
   "outputs": [],
   "source": [
    "# save the works data into json file\n",
    "json_file = open('works.json', 'w')\n",
    "json.dump(works, json_file)\n",
    "json_file.close()"
   ]
  }
 ],
 "metadata": {
  "kernelspec": {
   "display_name": "Python 3.10.8 64-bit",
   "language": "python",
   "name": "python3"
  },
  "language_info": {
   "codemirror_mode": {
    "name": "ipython",
    "version": 3
   },
   "file_extension": ".py",
   "mimetype": "text/x-python",
   "name": "python",
   "nbconvert_exporter": "python",
   "pygments_lexer": "ipython3",
   "version": "3.10.8"
  },
  "orig_nbformat": 4,
  "vscode": {
   "interpreter": {
    "hash": "865d8b2eb28e274047ba64063dfb6a2aabf0dfec4905d304d7a76618dae6fdd4"
   }
  }
 },
 "nbformat": 4,
 "nbformat_minor": 2
}
